{
  "nbformat": 4,
  "nbformat_minor": 0,
  "metadata": {
    "colab": {
      "provenance": [],
      "gpuType": "T4"
    },
    "kernelspec": {
      "name": "python3",
      "display_name": "Python 3"
    },
    "language_info": {
      "name": "python"
    },
    "accelerator": "GPU"
  },
  "cells": [
    {
      "cell_type": "code",
      "source": [
        "import re\n",
        "import os\n",
        "import numpy as np\n",
        "import pandas as pd\n",
        "import tensorflow as tf\n",
        "from functools import partial\n",
        "import matplotlib.pyplot as plt\n",
        "from sklearn.model_selection import train_test_split\n",
        "from keras.preprocessing.image import ImageDataGenerator\n",
        "from sklearn import metrics\n",
        "\n",
        "try:\n",
        "    tpu = tf.distribute.cluster_resolver.TPUClusterResolver()\n",
        "    print('Device:', tpu.master())\n",
        "    tf.config.experimental_connect_to_cluster(tpu)\n",
        "    tf.tpu.experimental.initialize_tpu_system(tpu)\n",
        "    strategy = tf.distribute.experimental.TPUStrategy(tpu)\n",
        "except:\n",
        "    strategy = tf.distribute.get_strategy()\n",
        "print('Number of replicas:', strategy.num_replicas_in_sync)\n",
        "    \n",
        "print(tf.__version__)\n"
      ],
      "metadata": {
        "colab": {
          "base_uri": "https://localhost:8080/"
        },
        "id": "r2ynPJL5atfr",
        "outputId": "c34fddd4-14a7-4a18-d261-e3035e524807"
      },
      "execution_count": 30,
      "outputs": [
        {
          "output_type": "stream",
          "name": "stdout",
          "text": [
            "Number of replicas: 1\n",
            "2.12.0\n"
          ]
        }
      ]
    },
    {
      "cell_type": "code",
      "source": [
        "AUTOTUNE = tf.data.experimental.AUTOTUNE\n",
        "BATCH_SIZE = 6 * strategy.num_replicas_in_sync\n",
        "IMAGE_SIZE = [299, 299]\n",
        "EPOCHS = 25"
      ],
      "metadata": {
        "id": "2rVpPcFGaujz"
      },
      "execution_count": 31,
      "outputs": []
    },
    {
      "cell_type": "code",
      "source": [
        "from pydrive.auth import GoogleAuth\n",
        "from google.colab import drive\n",
        "from pydrive.drive import GoogleDrive\n",
        "from google.colab import auth\n",
        "from oauth2client.client import GoogleCredentials"
      ],
      "metadata": {
        "id": "YtIkz4R8aum6"
      },
      "execution_count": 32,
      "outputs": []
    },
    {
      "cell_type": "code",
      "source": [
        "from google.colab import drive\n",
        "drive.mount('/gdrive')\n",
        "%cd /gdrive\n",
        "%cd MyDrive"
      ],
      "metadata": {
        "colab": {
          "base_uri": "https://localhost:8080/"
        },
        "id": "1WCL6pcga0F6",
        "outputId": "c2bc4cdd-732b-4f91-9211-617e1de5c67e"
      },
      "execution_count": 33,
      "outputs": [
        {
          "output_type": "stream",
          "name": "stdout",
          "text": [
            "Drive already mounted at /gdrive; to attempt to forcibly remount, call drive.mount(\"/gdrive\", force_remount=True).\n",
            "/gdrive\n",
            "/gdrive/MyDrive\n"
          ]
        }
      ]
    },
    {
      "cell_type": "code",
      "source": [
        "GCS_PATH = 'chest_xray'"
      ],
      "metadata": {
        "id": "apE7vPf7a0JB"
      },
      "execution_count": 34,
      "outputs": []
    },
    {
      "cell_type": "code",
      "source": [
        "filenames = tf.io.gfile.glob(str(GCS_PATH + '/train/*/*'))\n",
        "filenames.extend(tf.io.gfile.glob(str(GCS_PATH + '/val/*/*')))\n",
        "\n",
        "train_filenames, val_filenames = train_test_split(filenames, test_size=0.2)"
      ],
      "metadata": {
        "id": "3N0nMHoqa0Lo"
      },
      "execution_count": 35,
      "outputs": []
    },
    {
      "cell_type": "code",
      "source": [
        "COUNT_NORMAL = len([filename for filename in train_filenames if \"NORMAL\" in filename])\n",
        "print(\"Normal images count in training set: \" + str(COUNT_NORMAL))\n",
        "\n",
        "COUNT_PNEUMONIA = len([filename for filename in train_filenames if \"PNEUMONIA\" in filename])\n",
        "print(\"Pneumonia images count in training set: \" + str(COUNT_PNEUMONIA))"
      ],
      "metadata": {
        "colab": {
          "base_uri": "https://localhost:8080/"
        },
        "id": "xjKSuqhxa0Ny",
        "outputId": "c881cdd2-e021-4c31-d508-c5b57ce9efd1"
      },
      "execution_count": 36,
      "outputs": [
        {
          "output_type": "stream",
          "name": "stdout",
          "text": [
            "Normal images count in training set: 1083\n",
            "Pneumonia images count in training set: 3104\n"
          ]
        }
      ]
    },
    {
      "cell_type": "code",
      "source": [
        "train_list_ds = tf.data.Dataset.from_tensor_slices(train_filenames)\n",
        "val_list_ds = tf.data.Dataset.from_tensor_slices(val_filenames)\n",
        "\n",
        "for f in train_list_ds.take(5):\n",
        "    print(f.numpy())"
      ],
      "metadata": {
        "colab": {
          "base_uri": "https://localhost:8080/"
        },
        "id": "Na0QGNpfa0QV",
        "outputId": "3aa2d5d2-1dd2-4621-9f54-ca2b2870abe7"
      },
      "execution_count": 37,
      "outputs": [
        {
          "output_type": "stream",
          "name": "stdout",
          "text": [
            "b'chest_xray/train/PNEUMONIA/person24_bacteria_108.jpeg'\n",
            "b'chest_xray/train/NORMAL/NORMAL2-IM-0995-0001-0002.jpeg'\n",
            "b'chest_xray/train/PNEUMONIA/person1130_bacteria_3072.jpeg'\n",
            "b'chest_xray/train/PNEUMONIA/person325_virus_664.jpeg'\n",
            "b'chest_xray/train/PNEUMONIA/person433_bacteria_1875.jpeg'\n"
          ]
        }
      ]
    },
    {
      "cell_type": "code",
      "source": [
        "TRAIN_IMG_COUNT = tf.data.experimental.cardinality(train_list_ds).numpy()\n",
        "print(\"Training images count: \" + str(TRAIN_IMG_COUNT))\n",
        "\n",
        "VAL_IMG_COUNT = tf.data.experimental.cardinality(val_list_ds).numpy()\n",
        "print(\"Validating images count: \" + str(VAL_IMG_COUNT))"
      ],
      "metadata": {
        "colab": {
          "base_uri": "https://localhost:8080/"
        },
        "id": "m3diRWeya0S3",
        "outputId": "3f86d195-db55-46dc-b5db-2127da70595d"
      },
      "execution_count": 38,
      "outputs": [
        {
          "output_type": "stream",
          "name": "stdout",
          "text": [
            "Training images count: 4187\n",
            "Validating images count: 1047\n"
          ]
        }
      ]
    },
    {
      "cell_type": "code",
      "source": [
        "CLASS_NAMES = np.array([str(tf.strings.split(item, os.path.sep)[-1].numpy())[2:-1]\n",
        "                        for item in tf.io.gfile.glob(str(GCS_PATH + \"/chest_xray/train/*\"))])\n",
        "CLASS_NAMES"
      ],
      "metadata": {
        "colab": {
          "base_uri": "https://localhost:8080/"
        },
        "id": "r4YSC-dVa0VS",
        "outputId": "68df49b0-00ce-482b-b179-f7e4aa5c19ed"
      },
      "execution_count": 39,
      "outputs": [
        {
          "output_type": "execute_result",
          "data": {
            "text/plain": [
              "array([], dtype=float64)"
            ]
          },
          "metadata": {},
          "execution_count": 39
        }
      ]
    },
    {
      "cell_type": "markdown",
      "source": [
        "**Augmentation**"
      ],
      "metadata": {
        "id": "JaR6TbXSzAS-"
      }
    },
    {
      "cell_type": "code",
      "source": [
        "augment = tf.keras.Sequential([\n",
        "  tf.keras.layers.Resizing(*IMAGE_SIZE),\n",
        "  tf.keras.layers.RandomZoom(height_factor=(-0.05, -0.15),width_factor=(-0.05, -0.15)),\n",
        "\ttf.keras.layers.RandomRotation(0.1),\n",
        "])"
      ],
      "metadata": {
        "id": "QEfcS_fly-8o"
      },
      "execution_count": 40,
      "outputs": []
    },
    {
      "cell_type": "code",
      "source": [
        "def get_label(file_path):\n",
        "    # convert the path to a list of path components\n",
        "    parts = tf.strings.split(file_path, os.path.sep)\n",
        "    # The second to last is the class-directory\n",
        "    return parts[-2]"
      ],
      "metadata": {
        "id": "QDP_JW1qa0Xp"
      },
      "execution_count": 41,
      "outputs": []
    },
    {
      "cell_type": "code",
      "source": [
        "def decode_img(img, augmentation=False):\n",
        "  # convert the compressed string to a 3D uint8 tensor\n",
        "  img = tf.image.decode_jpeg(img, channels=3)\n",
        "  # Use `convert_image_dtype` to convert to floats in the [0,1] range.\n",
        "  img = tf.image.convert_image_dtype(img, tf.float32)\n",
        "  # resize the image to the desired size.\n",
        "  if augmentation:\n",
        "    return augment(img)\n",
        "  \n",
        "  return tf.image.resize(img,IMAGE_SIZE)"
      ],
      "metadata": {
        "id": "Hee62TJJa0aD"
      },
      "execution_count": 42,
      "outputs": []
    },
    {
      "cell_type": "code",
      "source": [
        "def process_path(file_path, augmentation=False):\n",
        "    label = get_label(file_path)\n",
        "    # load the raw data from the file as a string\n",
        "    img = tf.io.read_file(file_path)\n",
        "    img = decode_img(img, augmentation)\n",
        "    labels = [int(label == \"PNEUMONIA\"), int(label == \"NORMAL\")]\n",
        "    labels.extend([0] * 998)\n",
        "    return img, labels"
      ],
      "metadata": {
        "id": "Kx6uWRPObKzb"
      },
      "execution_count": 43,
      "outputs": []
    },
    {
      "cell_type": "code",
      "source": [
        "train_ds = train_list_ds.map(partial(process_path, augmentation=False), num_parallel_calls=AUTOTUNE)\n",
        "train_ds_aug = train_list_ds.map(partial(process_path, augmentation=True), num_parallel_calls=AUTOTUNE)\n",
        "train_ds = tf.data.Dataset.concatenate(train_ds, train_ds_aug)\n",
        "\n",
        "val_ds = val_list_ds.map(partial(process_path, augmentation=False), num_parallel_calls=AUTOTUNE)\n",
        "val_ds_aug = val_list_ds.map(partial(process_path, augmentation=True), num_parallel_calls=AUTOTUNE)\n",
        "val_ds = tf.data.Dataset.concatenate(val_ds, val_ds_aug)\n"
      ],
      "metadata": {
        "id": "M4bZVyUwbK2y"
      },
      "execution_count": 44,
      "outputs": []
    },
    {
      "cell_type": "code",
      "source": [
        "# train_ds_length = tf.data.experimental.cardinality(train_ds).numpy()\n",
        "# print(\"Number of images in train_ds:\", train_ds_length)"
      ],
      "metadata": {
        "id": "KtSsHmaVg-7Y"
      },
      "execution_count": 45,
      "outputs": []
    },
    {
      "cell_type": "code",
      "source": [
        "# train_list_ds = tf.data.Dataset.list_files(str(GCS_PATH + '/train/*/*'))\n",
        "# tf.data.experimental.cardinality(train_list_ds).numpy()"
      ],
      "metadata": {
        "id": "Qvr2LSU8gBiu"
      },
      "execution_count": 46,
      "outputs": []
    },
    {
      "cell_type": "code",
      "source": [
        "for image, label in train_ds.take(1):\n",
        "    print(\"Image shape: \", image.numpy().shape)\n",
        "    print(\"Label: \", label.numpy())"
      ],
      "metadata": {
        "colab": {
          "base_uri": "https://localhost:8080/"
        },
        "id": "_JtuY8mEbK6J",
        "outputId": "fa6337f8-5c71-4a57-cbb7-e67e9bea875a"
      },
      "execution_count": 47,
      "outputs": [
        {
          "output_type": "stream",
          "name": "stdout",
          "text": [
            "Image shape:  (299, 299, 3)\n",
            "Label:  [1 0 0 0 0 0 0 0 0 0 0 0 0 0 0 0 0 0 0 0 0 0 0 0 0 0 0 0 0 0 0 0 0 0 0 0 0\n",
            " 0 0 0 0 0 0 0 0 0 0 0 0 0 0 0 0 0 0 0 0 0 0 0 0 0 0 0 0 0 0 0 0 0 0 0 0 0\n",
            " 0 0 0 0 0 0 0 0 0 0 0 0 0 0 0 0 0 0 0 0 0 0 0 0 0 0 0 0 0 0 0 0 0 0 0 0 0\n",
            " 0 0 0 0 0 0 0 0 0 0 0 0 0 0 0 0 0 0 0 0 0 0 0 0 0 0 0 0 0 0 0 0 0 0 0 0 0\n",
            " 0 0 0 0 0 0 0 0 0 0 0 0 0 0 0 0 0 0 0 0 0 0 0 0 0 0 0 0 0 0 0 0 0 0 0 0 0\n",
            " 0 0 0 0 0 0 0 0 0 0 0 0 0 0 0 0 0 0 0 0 0 0 0 0 0 0 0 0 0 0 0 0 0 0 0 0 0\n",
            " 0 0 0 0 0 0 0 0 0 0 0 0 0 0 0 0 0 0 0 0 0 0 0 0 0 0 0 0 0 0 0 0 0 0 0 0 0\n",
            " 0 0 0 0 0 0 0 0 0 0 0 0 0 0 0 0 0 0 0 0 0 0 0 0 0 0 0 0 0 0 0 0 0 0 0 0 0\n",
            " 0 0 0 0 0 0 0 0 0 0 0 0 0 0 0 0 0 0 0 0 0 0 0 0 0 0 0 0 0 0 0 0 0 0 0 0 0\n",
            " 0 0 0 0 0 0 0 0 0 0 0 0 0 0 0 0 0 0 0 0 0 0 0 0 0 0 0 0 0 0 0 0 0 0 0 0 0\n",
            " 0 0 0 0 0 0 0 0 0 0 0 0 0 0 0 0 0 0 0 0 0 0 0 0 0 0 0 0 0 0 0 0 0 0 0 0 0\n",
            " 0 0 0 0 0 0 0 0 0 0 0 0 0 0 0 0 0 0 0 0 0 0 0 0 0 0 0 0 0 0 0 0 0 0 0 0 0\n",
            " 0 0 0 0 0 0 0 0 0 0 0 0 0 0 0 0 0 0 0 0 0 0 0 0 0 0 0 0 0 0 0 0 0 0 0 0 0\n",
            " 0 0 0 0 0 0 0 0 0 0 0 0 0 0 0 0 0 0 0 0 0 0 0 0 0 0 0 0 0 0 0 0 0 0 0 0 0\n",
            " 0 0 0 0 0 0 0 0 0 0 0 0 0 0 0 0 0 0 0 0 0 0 0 0 0 0 0 0 0 0 0 0 0 0 0 0 0\n",
            " 0 0 0 0 0 0 0 0 0 0 0 0 0 0 0 0 0 0 0 0 0 0 0 0 0 0 0 0 0 0 0 0 0 0 0 0 0\n",
            " 0 0 0 0 0 0 0 0 0 0 0 0 0 0 0 0 0 0 0 0 0 0 0 0 0 0 0 0 0 0 0 0 0 0 0 0 0\n",
            " 0 0 0 0 0 0 0 0 0 0 0 0 0 0 0 0 0 0 0 0 0 0 0 0 0 0 0 0 0 0 0 0 0 0 0 0 0\n",
            " 0 0 0 0 0 0 0 0 0 0 0 0 0 0 0 0 0 0 0 0 0 0 0 0 0 0 0 0 0 0 0 0 0 0 0 0 0\n",
            " 0 0 0 0 0 0 0 0 0 0 0 0 0 0 0 0 0 0 0 0 0 0 0 0 0 0 0 0 0 0 0 0 0 0 0 0 0\n",
            " 0 0 0 0 0 0 0 0 0 0 0 0 0 0 0 0 0 0 0 0 0 0 0 0 0 0 0 0 0 0 0 0 0 0 0 0 0\n",
            " 0 0 0 0 0 0 0 0 0 0 0 0 0 0 0 0 0 0 0 0 0 0 0 0 0 0 0 0 0 0 0 0 0 0 0 0 0\n",
            " 0 0 0 0 0 0 0 0 0 0 0 0 0 0 0 0 0 0 0 0 0 0 0 0 0 0 0 0 0 0 0 0 0 0 0 0 0\n",
            " 0 0 0 0 0 0 0 0 0 0 0 0 0 0 0 0 0 0 0 0 0 0 0 0 0 0 0 0 0 0 0 0 0 0 0 0 0\n",
            " 0 0 0 0 0 0 0 0 0 0 0 0 0 0 0 0 0 0 0 0 0 0 0 0 0 0 0 0 0 0 0 0 0 0 0 0 0\n",
            " 0 0 0 0 0 0 0 0 0 0 0 0 0 0 0 0 0 0 0 0 0 0 0 0 0 0 0 0 0 0 0 0 0 0 0 0 0\n",
            " 0 0 0 0 0 0 0 0 0 0 0 0 0 0 0 0 0 0 0 0 0 0 0 0 0 0 0 0 0 0 0 0 0 0 0 0 0\n",
            " 0]\n"
          ]
        }
      ]
    },
    {
      "cell_type": "code",
      "source": [
        "test_list_ds = tf.data.Dataset.list_files(str(GCS_PATH + '/test/*/*'))\n",
        "TEST_IMAGE_COUNT = tf.data.experimental.cardinality(test_list_ds).numpy()\n",
        "test_ds = test_list_ds.map(process_path, num_parallel_calls=AUTOTUNE)\n",
        "test_ds = test_ds.batch(BATCH_SIZE)\n",
        "\n",
        "TEST_IMAGE_COUNT"
      ],
      "metadata": {
        "colab": {
          "base_uri": "https://localhost:8080/"
        },
        "id": "iMj16z0ofAmT",
        "outputId": "64fa58ef-eaeb-4104-cf44-83669f9dedae"
      },
      "execution_count": 48,
      "outputs": [
        {
          "output_type": "execute_result",
          "data": {
            "text/plain": [
              "624"
            ]
          },
          "metadata": {},
          "execution_count": 48
        }
      ]
    },
    {
      "cell_type": "code",
      "source": [
        "def prepare_for_training(ds, cache=False, shuffle_buffer_size=500):\n",
        "    # This is a small dataset, only load it once, and keep it in memory.\n",
        "    # use `.cache(filename)` to cache preprocessing work for datasets that don't\n",
        "    # fit in memory.\n",
        "    if cache:\n",
        "        if isinstance(cache, str):\n",
        "            ds = ds.cache(cache)\n",
        "        else:\n",
        "            ds = ds.cache()\n",
        "\n",
        "    ds = ds.shuffle(buffer_size=shuffle_buffer_size)\n",
        "\n",
        "    # Repeat forever\n",
        "    ds = ds.repeat()\n",
        "\n",
        "    ds = ds.batch(BATCH_SIZE)\n",
        "\n",
        "    # `prefetch` lets the dataset fetch batches in the background while the model\n",
        "    # is training.\n",
        "    ds = ds.prefetch(buffer_size=AUTOTUNE)\n",
        "\n",
        "    return ds"
      ],
      "metadata": {
        "id": "4szvXCoWfAvC"
      },
      "execution_count": 49,
      "outputs": []
    },
    {
      "cell_type": "code",
      "source": [
        "train_ds = prepare_for_training(train_ds)\n",
        "val_ds = prepare_for_training(val_ds)\n",
        "\n",
        "image_batch, label_batch = next(iter(train_ds))"
      ],
      "metadata": {
        "id": "nrF9qYRlfAyb"
      },
      "execution_count": 50,
      "outputs": []
    },
    {
      "cell_type": "code",
      "source": [
        "# print(label_batch)\n",
        "print(label_batch.shape)\n",
        "print(image_batch.shape)"
      ],
      "metadata": {
        "colab": {
          "base_uri": "https://localhost:8080/"
        },
        "id": "wvgijGrPaupj",
        "outputId": "d7feeac0-0aba-4b56-dcbe-3254801d1d21"
      },
      "execution_count": 51,
      "outputs": [
        {
          "output_type": "stream",
          "name": "stdout",
          "text": [
            "(6, 1000)\n",
            "(6, 299, 299, 3)\n"
          ]
        }
      ]
    },
    {
      "cell_type": "code",
      "source": [
        "def show_batch(image_batch, label_batch):\n",
        "    fig, imgs = plt.subplots(BATCH_SIZE//4,4)\n",
        "    fig.tight_layout()\n",
        "    fig.set_figwidth(8) \n",
        "    for n in range(BATCH_SIZE):\n",
        "      imgs[n//4][n%4].imshow(image_batch[n])\n",
        "      if label_batch[n][0]:\n",
        "        imgs[n//4][n%4].set_title(\"PNEUMONIA\")\n",
        "      else:\n",
        "        imgs[n//4][n%4].set_title(\"NORMAL\")"
      ],
      "metadata": {
        "id": "yxovfZ_1fKUy"
      },
      "execution_count": 52,
      "outputs": []
    },
    {
      "cell_type": "code",
      "source": [
        "# show_batch(image_batch.numpy(), label_batch.numpy())"
      ],
      "metadata": {
        "id": "gcbZboFFfKca"
      },
      "execution_count": 53,
      "outputs": []
    },
    {
      "cell_type": "code",
      "source": [
        "initial_bias = np.log([COUNT_PNEUMONIA/COUNT_NORMAL])\n",
        "initial_bias"
      ],
      "metadata": {
        "colab": {
          "base_uri": "https://localhost:8080/"
        },
        "id": "t2UJDxCvfKi7",
        "outputId": "d939b8e6-5909-402d-c6c7-fde6076795a5"
      },
      "execution_count": 54,
      "outputs": [
        {
          "output_type": "execute_result",
          "data": {
            "text/plain": [
              "array([1.05295663])"
            ]
          },
          "metadata": {},
          "execution_count": 54
        }
      ]
    },
    {
      "cell_type": "code",
      "source": [
        "weight_for_0 = (1 / COUNT_NORMAL)*(TRAIN_IMG_COUNT)/2.0 \n",
        "weight_for_1 = (1 / COUNT_PNEUMONIA)*(TRAIN_IMG_COUNT)/2.0\n",
        "\n",
        "class_weight = {0: weight_for_0, 1: weight_for_1}\n",
        "\n",
        "print('Weight for class 0: {:.2f}'.format(weight_for_0))\n",
        "print('Weight for class 1: {:.2f}'.format(weight_for_1))"
      ],
      "metadata": {
        "colab": {
          "base_uri": "https://localhost:8080/"
        },
        "id": "lEwIAAQWfTwL",
        "outputId": "724444ad-a529-43f7-e3ee-a302b13394ec"
      },
      "execution_count": 55,
      "outputs": [
        {
          "output_type": "stream",
          "name": "stdout",
          "text": [
            "Weight for class 0: 1.93\n",
            "Weight for class 1: 0.67\n"
          ]
        }
      ]
    },
    {
      "cell_type": "code",
      "execution_count": 56,
      "metadata": {
        "id": "AVG9EFYbV9IY"
      },
      "outputs": [],
      "source": [
        "import tensorflow as tf\n",
        "import numpy as np\n",
        "from PIL import Image\n",
        "import matplotlib.pyplot as plt\n",
        "from pathlib import Path\n",
        "import os\n",
        "\n",
        "def reformat(labels, number = 10) :\n",
        "    array = np.zeros((labels.shape[0], number))\n",
        "    i = 0\n",
        "    for label in labels :\n",
        "        array[i][label] = 1\n",
        "        i += 1\n",
        "    return array\n",
        "\n",
        "def loadData() :\n",
        "    (x_train, y_train_basic), (x_test, y_test_basic) = tf.keras.datasets.cifar10.load_data()\n",
        "    y_train = reformat(y_train_basic)\n",
        "    y_test = reformat(y_test_basic)\n",
        "    return x_train, y_train, x_test, y_test, y_train_basic, y_test_basic\n",
        "\n",
        "def optimizeModel(model, train_ds, val_ds, epochs = 150) :\n",
        "    model.compile(optimizer=tf.keras.optimizers.SGD(learning_rate=0.001, momentum=0.9), loss=tf.keras.losses.CategoricalCrossentropy(), metrics = ['accuracy'], jit_compile = True)\n",
        "    history = model.fit(train_ds, batch_size = 64, epochs = epochs, steps_per_epoch=TRAIN_IMG_COUNT // BATCH_SIZE, validation_data=val_ds, validation_steps=VAL_IMG_COUNT // BATCH_SIZE)\n",
        "    return model, history\n",
        "\n",
        "def plotHistory(history) :\n",
        "    acc = history.history['accuracy']\n",
        "    val_acc = history.history['val_accuracy']\n",
        "\n",
        "    loss = history.history['loss']\n",
        "    val_loss = history.history['val_loss']\n",
        "\n",
        "    plt.figure(figsize=(8, 8))\n",
        "    plt.subplot(2, 1, 1)\n",
        "    plt.plot(acc, label='Training Accuracy')\n",
        "    plt.plot(val_acc, label='Validation Accuracy')\n",
        "    plt.legend(loc='lower left')\n",
        "    plt.xlabel('epoch')\n",
        "    plt.ylabel('Accuracy')\n",
        "    plt.ylim([0,1.1])\n",
        "    plt.title('Training and Validation Accuracy')\n",
        "\n",
        "    plt.subplot(2, 1, 2)\n",
        "    plt.plot(loss, label='Training Loss')\n",
        "    plt.plot(np.array(val_loss) / 10, label='Validation Loss')\n",
        "    plt.legend(loc='lower left')\n",
        "    plt.xlabel('epoch')\n",
        "    plt.ylabel('Loss')\n",
        "    plt.title('Training and Validation Loss')\n",
        "    plt.show()\n",
        "\n",
        "\n",
        "def test(model, train_ds, test_ds, val_ds, doPlot = True, doEvaluate = True, epochs = 150) :\n",
        "    model, history = optimizeModel(model, train_ds, val_ds, epochs = epochs)\n",
        "    if doEvaluate : model.evaluate(test_ds)\n",
        "    if doPlot : plotHistory(history)\n",
        "    return model\n",
        "\n",
        "def prepareXception(train_ds, test_ds, val_ds, model, doFreeze = True, epochs = 150) :\n",
        "    for layer in model.layers :\n",
        "      if doFreeze or layer.name[:5] == \"batch\" :\n",
        "          layer.trainable = False\n",
        "      else :\n",
        "          layer.trainable = True\n",
        "    if doFreeze :\n",
        "        model.layers[-2] = tf.keras.layers.GlobalAveragePooling2D()\n",
        "        model.layers[-1] = tf.keras.layers.Dense(units = 2, activation = 'softmax')\n",
        "    model.layers[-2].trainable = True\n",
        "    model.layers[-1].trainable = True\n",
        "    \n",
        "    return test(model, train_ds, test_ds, val_ds, doPlot = True, doEvaluate = True, epochs = epochs)\n",
        "\n",
        "def step3(train_ds, test_ds, val_ds, doFreeze = True, epochs = 40, doPredict = True) :\n",
        "    model = tf.keras.applications.Xception(include_top=True, weights=\"imagenet\", input_tensor=None, input_shape=None, pooling=None, classes=1000, classifier_activation=\"softmax\")\n",
        "    model = prepareXception(train_ds, test_ds, val_ds, model, doFreeze, epochs)\n",
        "    return model"
      ]
    },
    {
      "cell_type": "code",
      "source": [
        "model, y_test, x_test = None, None, None\n",
        "\n",
        "if __name__ == \"__main__\" :\n",
        "    model__y_test__x_test = step3(train_ds, test_ds, val_ds, doFreeze = True, epochs = 50)"
      ],
      "metadata": {
        "colab": {
          "base_uri": "https://localhost:8080/",
          "height": 1000
        },
        "id": "9Z6LD3klWNgC",
        "outputId": "ab8ca247-1ba2-4c68-960a-6e73f68c3f00"
      },
      "execution_count": 28,
      "outputs": [
        {
          "output_type": "stream",
          "name": "stdout",
          "text": [
            "Epoch 1/50\n",
            "697/697 [==============================] - 205s 248ms/step - loss: 0.4528 - accuracy: 0.8792 - val_loss: 0.2387 - val_accuracy: 0.9023\n",
            "Epoch 2/50\n",
            "697/697 [==============================] - 198s 284ms/step - loss: 0.2233 - accuracy: 0.9120 - val_loss: 0.2035 - val_accuracy: 0.9253\n",
            "Epoch 3/50\n",
            "697/697 [==============================] - 168s 241ms/step - loss: 0.1380 - accuracy: 0.9491 - val_loss: 0.1515 - val_accuracy: 0.9330\n",
            "Epoch 4/50\n",
            "697/697 [==============================] - 162s 232ms/step - loss: 0.1823 - accuracy: 0.9299 - val_loss: 0.1607 - val_accuracy: 0.9397\n",
            "Epoch 5/50\n",
            "697/697 [==============================] - 134s 193ms/step - loss: 0.1269 - accuracy: 0.9488 - val_loss: 0.1585 - val_accuracy: 0.9358\n",
            "Epoch 6/50\n",
            "697/697 [==============================] - 193s 277ms/step - loss: 0.1570 - accuracy: 0.9419 - val_loss: 0.1480 - val_accuracy: 0.9444\n",
            "Epoch 7/50\n",
            "697/697 [==============================] - 141s 203ms/step - loss: 0.1128 - accuracy: 0.9591 - val_loss: 0.1433 - val_accuracy: 0.9454\n",
            "Epoch 8/50\n",
            "697/697 [==============================] - 150s 216ms/step - loss: 0.1402 - accuracy: 0.9445 - val_loss: 0.1381 - val_accuracy: 0.9377\n",
            "Epoch 9/50\n",
            "697/697 [==============================] - 153s 220ms/step - loss: 0.1085 - accuracy: 0.9584 - val_loss: 0.1438 - val_accuracy: 0.9397\n",
            "Epoch 10/50\n",
            "697/697 [==============================] - 143s 205ms/step - loss: 0.1441 - accuracy: 0.9445 - val_loss: 0.1543 - val_accuracy: 0.9358\n",
            "Epoch 11/50\n",
            "697/697 [==============================] - 143s 205ms/step - loss: 0.1014 - accuracy: 0.9622 - val_loss: 0.1323 - val_accuracy: 0.9387\n",
            "Epoch 12/50\n",
            "697/697 [==============================] - 155s 223ms/step - loss: 0.1275 - accuracy: 0.9543 - val_loss: 0.1286 - val_accuracy: 0.9464\n",
            "Epoch 13/50\n",
            "697/697 [==============================] - 203s 292ms/step - loss: 0.1015 - accuracy: 0.9639 - val_loss: 0.1262 - val_accuracy: 0.9454\n",
            "Epoch 14/50\n",
            "697/697 [==============================] - 146s 210ms/step - loss: 0.1287 - accuracy: 0.9491 - val_loss: 0.1305 - val_accuracy: 0.9511\n",
            "Epoch 15/50\n",
            "697/697 [==============================] - 135s 193ms/step - loss: 0.0934 - accuracy: 0.9675 - val_loss: 0.1238 - val_accuracy: 0.9521\n",
            "Epoch 16/50\n",
            "697/697 [==============================] - 178s 256ms/step - loss: 0.1286 - accuracy: 0.9464 - val_loss: 0.1689 - val_accuracy: 0.9262\n",
            "Epoch 17/50\n",
            "697/697 [==============================] - 153s 219ms/step - loss: 0.0945 - accuracy: 0.9692 - val_loss: 0.1063 - val_accuracy: 0.9579\n",
            "Epoch 18/50\n",
            "697/697 [==============================] - 165s 237ms/step - loss: 0.1259 - accuracy: 0.9505 - val_loss: 0.1347 - val_accuracy: 0.9416\n",
            "Epoch 19/50\n",
            "697/697 [==============================] - 158s 227ms/step - loss: 0.0884 - accuracy: 0.9694 - val_loss: 0.1269 - val_accuracy: 0.9483\n",
            "Epoch 20/50\n",
            "697/697 [==============================] - 178s 256ms/step - loss: 0.1253 - accuracy: 0.9529 - val_loss: 0.1194 - val_accuracy: 0.9550\n",
            "Epoch 21/50\n",
            "697/697 [==============================] - 156s 224ms/step - loss: 0.0868 - accuracy: 0.9711 - val_loss: 0.1215 - val_accuracy: 0.9464\n",
            "Epoch 22/50\n",
            "697/697 [==============================] - 150s 216ms/step - loss: 0.1217 - accuracy: 0.9527 - val_loss: 0.1288 - val_accuracy: 0.9473\n",
            "Epoch 23/50\n",
            "697/697 [==============================] - 160s 229ms/step - loss: 0.0854 - accuracy: 0.9735 - val_loss: 0.1291 - val_accuracy: 0.9464\n",
            "Epoch 24/50\n",
            "697/697 [==============================] - 156s 225ms/step - loss: 0.1282 - accuracy: 0.9515 - val_loss: 0.1333 - val_accuracy: 0.9425\n",
            "Epoch 25/50\n",
            "697/697 [==============================] - 208s 299ms/step - loss: 0.0825 - accuracy: 0.9732 - val_loss: 0.1296 - val_accuracy: 0.9492\n",
            "Epoch 26/50\n",
            "697/697 [==============================] - 157s 225ms/step - loss: 0.1169 - accuracy: 0.9579 - val_loss: 0.1189 - val_accuracy: 0.9502\n",
            "Epoch 27/50\n",
            "697/697 [==============================] - 147s 212ms/step - loss: 0.0811 - accuracy: 0.9713 - val_loss: 0.1321 - val_accuracy: 0.9425\n",
            "Epoch 28/50\n",
            "697/697 [==============================] - 140s 201ms/step - loss: 0.1209 - accuracy: 0.9534 - val_loss: 0.1249 - val_accuracy: 0.9483\n",
            "Epoch 29/50\n",
            "697/697 [==============================] - 141s 203ms/step - loss: 0.0801 - accuracy: 0.9747 - val_loss: 0.1400 - val_accuracy: 0.9492\n",
            "Epoch 30/50\n",
            "697/697 [==============================] - 150s 216ms/step - loss: 0.1119 - accuracy: 0.9582 - val_loss: 0.1152 - val_accuracy: 0.9550\n",
            "Epoch 31/50\n",
            "697/697 [==============================] - 157s 226ms/step - loss: 0.0796 - accuracy: 0.9737 - val_loss: 0.1195 - val_accuracy: 0.9531\n",
            "Epoch 32/50\n",
            "697/697 [==============================] - 183s 262ms/step - loss: 0.1153 - accuracy: 0.9560 - val_loss: 0.1338 - val_accuracy: 0.9397\n",
            "Epoch 33/50\n",
            "697/697 [==============================] - 159s 229ms/step - loss: 0.0795 - accuracy: 0.9737 - val_loss: 0.1271 - val_accuracy: 0.9483\n",
            "Epoch 34/50\n",
            "697/697 [==============================] - 175s 251ms/step - loss: 0.1091 - accuracy: 0.9620 - val_loss: 0.1305 - val_accuracy: 0.9454\n",
            "Epoch 35/50\n",
            "697/697 [==============================] - 151s 217ms/step - loss: 0.0764 - accuracy: 0.9758 - val_loss: 0.1042 - val_accuracy: 0.9617\n",
            "Epoch 36/50\n",
            "697/697 [==============================] - 182s 261ms/step - loss: 0.1134 - accuracy: 0.9546 - val_loss: 0.1156 - val_accuracy: 0.9521\n",
            "Epoch 37/50\n",
            "697/697 [==============================] - 158s 227ms/step - loss: 0.0781 - accuracy: 0.9735 - val_loss: 0.1227 - val_accuracy: 0.9473\n",
            "Epoch 38/50\n",
            "697/697 [==============================] - 181s 260ms/step - loss: 0.1065 - accuracy: 0.9613 - val_loss: 0.1151 - val_accuracy: 0.9531\n",
            "Epoch 39/50\n",
            "697/697 [==============================] - 142s 203ms/step - loss: 0.0776 - accuracy: 0.9727 - val_loss: 0.1325 - val_accuracy: 0.9464\n",
            "Epoch 40/50\n",
            "697/697 [==============================] - 167s 240ms/step - loss: 0.1063 - accuracy: 0.9591 - val_loss: 0.1235 - val_accuracy: 0.9511\n",
            "Epoch 41/50\n",
            "697/697 [==============================] - 161s 232ms/step - loss: 0.0731 - accuracy: 0.9770 - val_loss: 0.1055 - val_accuracy: 0.9579\n",
            "Epoch 42/50\n",
            "697/697 [==============================] - 153s 219ms/step - loss: 0.1136 - accuracy: 0.9562 - val_loss: 0.1364 - val_accuracy: 0.9444\n",
            "Epoch 43/50\n",
            "697/697 [==============================] - 133s 191ms/step - loss: 0.0700 - accuracy: 0.9780 - val_loss: 0.1291 - val_accuracy: 0.9444\n",
            "Epoch 44/50\n",
            "697/697 [==============================] - 180s 258ms/step - loss: 0.0996 - accuracy: 0.9613 - val_loss: 0.1225 - val_accuracy: 0.9492\n",
            "Epoch 45/50\n",
            "697/697 [==============================] - 134s 193ms/step - loss: 0.0728 - accuracy: 0.9775 - val_loss: 0.1204 - val_accuracy: 0.9531\n",
            "Epoch 46/50\n",
            "697/697 [==============================] - 186s 267ms/step - loss: 0.1081 - accuracy: 0.9601 - val_loss: 0.1223 - val_accuracy: 0.9511\n",
            "Epoch 47/50\n",
            "697/697 [==============================] - 151s 218ms/step - loss: 0.0750 - accuracy: 0.9747 - val_loss: 0.1135 - val_accuracy: 0.9540\n",
            "Epoch 48/50\n",
            "697/697 [==============================] - 147s 212ms/step - loss: 0.1040 - accuracy: 0.9617 - val_loss: 0.1311 - val_accuracy: 0.9425\n",
            "Epoch 49/50\n",
            "697/697 [==============================] - 133s 191ms/step - loss: 0.0702 - accuracy: 0.9770 - val_loss: 0.1103 - val_accuracy: 0.9569\n",
            "Epoch 50/50\n",
            "697/697 [==============================] - 135s 193ms/step - loss: 0.1062 - accuracy: 0.9598 - val_loss: 0.1378 - val_accuracy: 0.9377\n",
            "104/104 [==============================] - 12s 106ms/step - loss: 0.3477 - accuracy: 0.8718\n"
          ]
        },
        {
          "output_type": "display_data",
          "data": {
            "text/plain": [
              "<Figure size 800x800 with 2 Axes>"
            ],
            "image/png": "[encoded data removed]"
          },
          "metadata": {}
        }
      ]
    },
    {
      "cell_type": "code",
      "source": [
        "model__y_test__x_test"
      ],
      "metadata": {
        "id": "vmFMkW199XUj",
        "colab": {
          "base_uri": "https://localhost:8080/"
        },
        "outputId": "e0aba84a-d320-4e09-f1a7-bc4b53476a23"
      },
      "execution_count": 29,
      "outputs": [
        {
          "output_type": "execute_result",
          "data": {
            "text/plain": [
              "<keras.engine.functional.Functional at 0x7f425a912890>"
            ]
          },
          "metadata": {},
          "execution_count": 29
        }
      ]
    },
    {
      "cell_type": "code",
      "source": [],
      "metadata": {
        "id": "KnWRosy3ER4P"
      },
      "execution_count": 29,
      "outputs": []
    }
  ]
}