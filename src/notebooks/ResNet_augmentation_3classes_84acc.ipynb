{
 "cells": [
  {
   "cell_type": "code",
   "execution_count": 33,
   "metadata": {
    "colab": {
     "base_uri": "https://localhost:8080/"
    },
    "id": "r2ynPJL5atfr",
    "outputId": "d3b2d3ef-4f56-4023-8f92-271d5fc5f070"
   },
   "outputs": [
    {
     "name": "stdout",
     "output_type": "stream",
     "text": [
      "Number of replicas: 1\n",
      "2.12.0\n"
     ]
    }
   ],
   "source": [
    "import re\n",
    "import os\n",
    "import numpy as np\n",
    "import pandas as pd\n",
    "import tensorflow as tf\n",
    "from functools import partial\n",
    "import matplotlib.pyplot as plt\n",
    "from sklearn.model_selection import train_test_split\n",
    "from keras.preprocessing.image import ImageDataGenerator\n",
    "from sklearn import metrics\n",
    "\n",
    "try:\n",
    "    tpu = tf.distribute.cluster_resolver.TPUClusterResolver()\n",
    "    print('Device:', tpu.master())\n",
    "    tf.config.experimental_connect_to_cluster(tpu)\n",
    "    tf.tpu.experimental.initialize_tpu_system(tpu)\n",
    "    strategy = tf.distribute.experimental.TPUStrategy(tpu)\n",
    "except:\n",
    "    strategy = tf.distribute.get_strategy()\n",
    "print('Number of replicas:', strategy.num_replicas_in_sync)\n",
    "    \n",
    "print(tf.__version__)\n"
   ]
  },
  {
   "cell_type": "code",
   "execution_count": 34,
   "metadata": {
    "id": "2rVpPcFGaujz"
   },
   "outputs": [],
   "source": [
    "AUTOTUNE = tf.data.experimental.AUTOTUNE\n",
    "BATCH_SIZE = 6 * strategy.num_replicas_in_sync\n",
    "IMAGE_SIZE = [299, 299]\n",
    "EPOCHS = 25"
   ]
  },
  {
   "cell_type": "code",
   "execution_count": 35,
   "metadata": {
    "id": "YtIkz4R8aum6"
   },
   "outputs": [],
   "source": [
    "from pydrive.auth import GoogleAuth\n",
    "from google.colab import drive\n",
    "from pydrive.drive import GoogleDrive\n",
    "from google.colab import auth\n",
    "from oauth2client.client import GoogleCredentials"
   ]
  },
  {
   "cell_type": "code",
   "execution_count": 36,
   "metadata": {
    "colab": {
     "base_uri": "https://localhost:8080/"
    },
    "id": "1WCL6pcga0F6",
    "outputId": "54824052-147d-4471-a9b1-9f1e7067672b"
   },
   "outputs": [
    {
     "name": "stdout",
     "output_type": "stream",
     "text": [
      "Drive already mounted at /gdrive; to attempt to forcibly remount, call drive.mount(\"/gdrive\", force_remount=True).\n",
      "/gdrive\n",
      "/gdrive/MyDrive\n"
     ]
    }
   ],
   "source": [
    "from google.colab import drive\n",
    "drive.mount('/gdrive')\n",
    "%cd /gdrive\n",
    "%cd MyDrive"
   ]
  },
  {
   "cell_type": "code",
   "execution_count": 37,
   "metadata": {
    "id": "apE7vPf7a0JB"
   },
   "outputs": [],
   "source": [
    "GCS_PATH = 'chest_xray'"
   ]
  },
  {
   "cell_type": "code",
   "execution_count": 38,
   "metadata": {
    "id": "3N0nMHoqa0Lo"
   },
   "outputs": [],
   "source": [
    "filenames = tf.io.gfile.glob(str(GCS_PATH + '/train/*/*'))\n",
    "filenames.extend(tf.io.gfile.glob(str(GCS_PATH + '/val/*/*')))\n",
    "\n",
    "train_filenames, val_filenames = train_test_split(filenames, test_size=0.2)"
   ]
  },
  {
   "cell_type": "code",
   "execution_count": 39,
   "metadata": {
    "colab": {
     "base_uri": "https://localhost:8080/"
    },
    "id": "xjKSuqhxa0Ny",
    "outputId": "d5352946-c87e-4532-e64f-d8988debe13c"
   },
   "outputs": [
    {
     "name": "stdout",
     "output_type": "stream",
     "text": [
      "Normal images count in training set: 1093\n",
      "Bacteria images count in training set: 2029\n",
      "Virus images count in training set: 1070\n"
     ]
    }
   ],
   "source": [
    "COUNT_NORMAL = len([filename for filename in train_filenames if \"NORMAL\" in filename])\n",
    "print(\"Normal images count in training set: \" + str(COUNT_NORMAL))\n",
    "\n",
    "COUNT_bacteria = len([filename for filename in train_filenames if \"bacteria\" in filename])\n",
    "print(\"Bacteria images count in training set: \" + str(COUNT_bacteria))\n",
    "\n",
    "COUNT_virus = len([filename for filename in train_filenames if \"virus\" in filename])\n",
    "print(\"Virus images count in training set: \" + str(COUNT_virus))"
   ]
  },
  {
   "cell_type": "code",
   "execution_count": 40,
   "metadata": {
    "colab": {
     "base_uri": "https://localhost:8080/"
    },
    "id": "Na0QGNpfa0QV",
    "outputId": "2028be7f-3de9-40a2-bd30-b9457cb5f9bc"
   },
   "outputs": [
    {
     "name": "stdout",
     "output_type": "stream",
     "text": [
      "b'chest_xray/train/PNEUMONIA/person258_bacteria_1214.jpeg'\n",
      "b'chest_xray/train/PNEUMONIA/person392_bacteria_1786.jpeg'\n",
      "b'chest_xray/train/PNEUMONIA/person595_bacteria_2438.jpeg'\n",
      "b'chest_xray/train/PNEUMONIA/person618_virus_1189.jpeg'\n",
      "b'chest_xray/train/PNEUMONIA/person605_virus_1169.jpeg'\n"
     ]
    }
   ],
   "source": [
    "train_list_ds = tf.data.Dataset.from_tensor_slices(train_filenames)\n",
    "val_list_ds = tf.data.Dataset.from_tensor_slices(val_filenames)\n",
    "\n",
    "for f in train_list_ds.take(5):\n",
    "    print(f.numpy())"
   ]
  },
  {
   "cell_type": "code",
   "execution_count": 41,
   "metadata": {
    "colab": {
     "base_uri": "https://localhost:8080/"
    },
    "id": "m3diRWeya0S3",
    "outputId": "a130a1ed-24fa-4c29-e810-fb537f258fef"
   },
   "outputs": [
    {
     "name": "stdout",
     "output_type": "stream",
     "text": [
      "Training images count: 4192\n",
      "Validating images count: 1049\n"
     ]
    }
   ],
   "source": [
    "TRAIN_IMG_COUNT = tf.data.experimental.cardinality(train_list_ds).numpy()\n",
    "print(\"Training images count: \" + str(TRAIN_IMG_COUNT))\n",
    "\n",
    "VAL_IMG_COUNT = tf.data.experimental.cardinality(val_list_ds).numpy()\n",
    "print(\"Validating images count: \" + str(VAL_IMG_COUNT))"
   ]
  },
  {
   "cell_type": "code",
   "execution_count": 42,
   "metadata": {
    "colab": {
     "base_uri": "https://localhost:8080/"
    },
    "id": "r4YSC-dVa0VS",
    "outputId": "d8985cb2-1e8a-4234-9128-69b0636ccd30"
   },
   "outputs": [
    {
     "data": {
      "text/plain": [
       "array([], dtype=float64)"
      ]
     },
     "execution_count": 42,
     "metadata": {},
     "output_type": "execute_result"
    }
   ],
   "source": [
    "CLASS_NAMES = np.array([str(tf.strings.split(item, os.path.sep)[-1].numpy())[2:-1]\n",
    "                        for item in tf.io.gfile.glob(str(GCS_PATH + \"/chest_xray/train/*\"))])\n",
    "CLASS_NAMES"
   ]
  },
  {
   "cell_type": "markdown",
   "metadata": {
    "id": "JaR6TbXSzAS-"
   },
   "source": [
    "**Augmentation**"
   ]
  },
  {
   "cell_type": "code",
   "execution_count": 43,
   "metadata": {
    "id": "QEfcS_fly-8o"
   },
   "outputs": [],
   "source": [
    "augment = tf.keras.Sequential([\n",
    "  tf.keras.layers.Resizing(*IMAGE_SIZE),\n",
    "  tf.keras.layers.RandomZoom(height_factor=(-0.05, -0.15),width_factor=(-0.05, -0.15)),\n",
    "\ttf.keras.layers.RandomRotation(0.1),\n",
    "])"
   ]
  },
  {
   "cell_type": "code",
   "execution_count": 44,
   "metadata": {
    "id": "QDP_JW1qa0Xp"
   },
   "outputs": [],
   "source": [
    "# def get_label(file_path):\n",
    "#     # convert the path to a list of path components\n",
    "#     parts = tf.strings.split(file_path, os.path.sep)\n",
    "#     # The second to last is the class-directory\n",
    "#     return parts[-2]\n",
    "\n",
    "def get_label(file_path):\n",
    "    # Extract the file name from the file path\n",
    "    file_name = tf.strings.split(file_path, os.path.sep)[-1]\n",
    "\n",
    "    # Check if the file name contains \"virus\" or \"bacteria\"\n",
    "    is_virus = tf.strings.regex_full_match(file_name, r'.*virus.*')\n",
    "    is_bacteria = tf.strings.regex_full_match(file_name, r'.*bacteria.*')\n",
    "\n",
    "    # Assign labels based on file name conditions\n",
    "    label = tf.cond(is_virus, lambda: \"virus\",\n",
    "                    lambda: tf.cond(is_bacteria, lambda: \"bacteria\", lambda: \"NORMAL\"))\n",
    "\n",
    "    return label"
   ]
  },
  {
   "cell_type": "code",
   "execution_count": 45,
   "metadata": {
    "id": "Hee62TJJa0aD"
   },
   "outputs": [],
   "source": [
    "def decode_img(img, augmentation=False):\n",
    "  # convert the compressed string to a 3D uint8 tensor\n",
    "  img = tf.image.decode_jpeg(img, channels=3)\n",
    "  # Use `convert_image_dtype` to convert to floats in the [0,1] range.\n",
    "  img = tf.image.convert_image_dtype(img, tf.float32)\n",
    "  # resize the image to the desired size.\n",
    "  if augmentation:\n",
    "    return augment(img)\n",
    "  \n",
    "  return tf.image.resize(img,IMAGE_SIZE)"
   ]
  },
  {
   "cell_type": "code",
   "execution_count": 46,
   "metadata": {
    "id": "Kx6uWRPObKzb"
   },
   "outputs": [],
   "source": [
    "def process_path(file_path, augmentation=False):\n",
    "    label = get_label(file_path)\n",
    "    # load the raw data from the file as a string\n",
    "    img = tf.io.read_file(file_path)\n",
    "    img = decode_img(img, augmentation)\n",
    "    labels = [int(label == \"virus\"), int(label==\"bacteria\"), int(label == \"NORMAL\")]\n",
    "    labels.extend([0] * 997)\n",
    "    return img, labels"
   ]
  },
  {
   "cell_type": "code",
   "execution_count": 47,
   "metadata": {
    "id": "M4bZVyUwbK2y"
   },
   "outputs": [],
   "source": [
    "train_ds = train_list_ds.map(partial(process_path, augmentation=False), num_parallel_calls=AUTOTUNE)\n",
    "train_ds_aug = train_list_ds.map(partial(process_path, augmentation=True), num_parallel_calls=AUTOTUNE)\n",
    "train_ds = tf.data.Dataset.concatenate(train_ds, train_ds_aug)\n",
    "\n",
    "val_ds = val_list_ds.map(partial(process_path, augmentation=False), num_parallel_calls=AUTOTUNE)\n",
    "val_ds_aug = val_list_ds.map(partial(process_path, augmentation=True), num_parallel_calls=AUTOTUNE)\n",
    "val_ds = tf.data.Dataset.concatenate(val_ds, val_ds_aug)\n"
   ]
  },
  {
   "cell_type": "code",
   "execution_count": 48,
   "metadata": {
    "id": "KtSsHmaVg-7Y"
   },
   "outputs": [],
   "source": [
    "# train_ds_length = tf.data.experimental.cardinality(train_ds).numpy()\n",
    "# print(\"Number of images in train_ds:\", train_ds_length)"
   ]
  },
  {
   "cell_type": "code",
   "execution_count": 49,
   "metadata": {
    "id": "Qvr2LSU8gBiu"
   },
   "outputs": [],
   "source": [
    "# train_list_ds = tf.data.Dataset.list_files(str(GCS_PATH + '/train/*/*'))\n",
    "# tf.data.experimental.cardinality(train_list_ds).numpy()"
   ]
  },
  {
   "cell_type": "code",
   "execution_count": 50,
   "metadata": {
    "colab": {
     "base_uri": "https://localhost:8080/"
    },
    "id": "_JtuY8mEbK6J",
    "outputId": "95ef9360-0555-4b58-bb42-88a0507e5bd6"
   },
   "outputs": [
    {
     "name": "stdout",
     "output_type": "stream",
     "text": [
      "Image shape:  (299, 299, 3)\n",
      "Label:  [0 1 0 0 0 0 0 0 0 0 0 0 0 0 0 0 0 0 0 0 0 0 0 0 0 0 0 0 0 0 0 0 0 0 0 0 0\n",
      " 0 0 0 0 0 0 0 0 0 0 0 0 0 0 0 0 0 0 0 0 0 0 0 0 0 0 0 0 0 0 0 0 0 0 0 0 0\n",
      " 0 0 0 0 0 0 0 0 0 0 0 0 0 0 0 0 0 0 0 0 0 0 0 0 0 0 0 0 0 0 0 0 0 0 0 0 0\n",
      " 0 0 0 0 0 0 0 0 0 0 0 0 0 0 0 0 0 0 0 0 0 0 0 0 0 0 0 0 0 0 0 0 0 0 0 0 0\n",
      " 0 0 0 0 0 0 0 0 0 0 0 0 0 0 0 0 0 0 0 0 0 0 0 0 0 0 0 0 0 0 0 0 0 0 0 0 0\n",
      " 0 0 0 0 0 0 0 0 0 0 0 0 0 0 0 0 0 0 0 0 0 0 0 0 0 0 0 0 0 0 0 0 0 0 0 0 0\n",
      " 0 0 0 0 0 0 0 0 0 0 0 0 0 0 0 0 0 0 0 0 0 0 0 0 0 0 0 0 0 0 0 0 0 0 0 0 0\n",
      " 0 0 0 0 0 0 0 0 0 0 0 0 0 0 0 0 0 0 0 0 0 0 0 0 0 0 0 0 0 0 0 0 0 0 0 0 0\n",
      " 0 0 0 0 0 0 0 0 0 0 0 0 0 0 0 0 0 0 0 0 0 0 0 0 0 0 0 0 0 0 0 0 0 0 0 0 0\n",
      " 0 0 0 0 0 0 0 0 0 0 0 0 0 0 0 0 0 0 0 0 0 0 0 0 0 0 0 0 0 0 0 0 0 0 0 0 0\n",
      " 0 0 0 0 0 0 0 0 0 0 0 0 0 0 0 0 0 0 0 0 0 0 0 0 0 0 0 0 0 0 0 0 0 0 0 0 0\n",
      " 0 0 0 0 0 0 0 0 0 0 0 0 0 0 0 0 0 0 0 0 0 0 0 0 0 0 0 0 0 0 0 0 0 0 0 0 0\n",
      " 0 0 0 0 0 0 0 0 0 0 0 0 0 0 0 0 0 0 0 0 0 0 0 0 0 0 0 0 0 0 0 0 0 0 0 0 0\n",
      " 0 0 0 0 0 0 0 0 0 0 0 0 0 0 0 0 0 0 0 0 0 0 0 0 0 0 0 0 0 0 0 0 0 0 0 0 0\n",
      " 0 0 0 0 0 0 0 0 0 0 0 0 0 0 0 0 0 0 0 0 0 0 0 0 0 0 0 0 0 0 0 0 0 0 0 0 0\n",
      " 0 0 0 0 0 0 0 0 0 0 0 0 0 0 0 0 0 0 0 0 0 0 0 0 0 0 0 0 0 0 0 0 0 0 0 0 0\n",
      " 0 0 0 0 0 0 0 0 0 0 0 0 0 0 0 0 0 0 0 0 0 0 0 0 0 0 0 0 0 0 0 0 0 0 0 0 0\n",
      " 0 0 0 0 0 0 0 0 0 0 0 0 0 0 0 0 0 0 0 0 0 0 0 0 0 0 0 0 0 0 0 0 0 0 0 0 0\n",
      " 0 0 0 0 0 0 0 0 0 0 0 0 0 0 0 0 0 0 0 0 0 0 0 0 0 0 0 0 0 0 0 0 0 0 0 0 0\n",
      " 0 0 0 0 0 0 0 0 0 0 0 0 0 0 0 0 0 0 0 0 0 0 0 0 0 0 0 0 0 0 0 0 0 0 0 0 0\n",
      " 0 0 0 0 0 0 0 0 0 0 0 0 0 0 0 0 0 0 0 0 0 0 0 0 0 0 0 0 0 0 0 0 0 0 0 0 0\n",
      " 0 0 0 0 0 0 0 0 0 0 0 0 0 0 0 0 0 0 0 0 0 0 0 0 0 0 0 0 0 0 0 0 0 0 0 0 0\n",
      " 0 0 0 0 0 0 0 0 0 0 0 0 0 0 0 0 0 0 0 0 0 0 0 0 0 0 0 0 0 0 0 0 0 0 0 0 0\n",
      " 0 0 0 0 0 0 0 0 0 0 0 0 0 0 0 0 0 0 0 0 0 0 0 0 0 0 0 0 0 0 0 0 0 0 0 0 0\n",
      " 0 0 0 0 0 0 0 0 0 0 0 0 0 0 0 0 0 0 0 0 0 0 0 0 0 0 0 0 0 0 0 0 0 0 0 0 0\n",
      " 0 0 0 0 0 0 0 0 0 0 0 0 0 0 0 0 0 0 0 0 0 0 0 0 0 0 0 0 0 0 0 0 0 0 0 0 0\n",
      " 0 0 0 0 0 0 0 0 0 0 0 0 0 0 0 0 0 0 0 0 0 0 0 0 0 0 0 0 0 0 0 0 0 0 0 0 0\n",
      " 0]\n"
     ]
    }
   ],
   "source": [
    "for image, label in train_ds.take(1):\n",
    "    print(\"Image shape: \", image.numpy().shape)\n",
    "    print(\"Label: \", label.numpy())"
   ]
  },
  {
   "cell_type": "code",
   "execution_count": 51,
   "metadata": {
    "colab": {
     "base_uri": "https://localhost:8080/"
    },
    "id": "iMj16z0ofAmT",
    "outputId": "0310e3ce-69d5-4d3b-fa72-31d2dcfa54d0"
   },
   "outputs": [
    {
     "data": {
      "text/plain": [
       "624"
      ]
     },
     "execution_count": 51,
     "metadata": {},
     "output_type": "execute_result"
    }
   ],
   "source": [
    "test_list_ds = tf.data.Dataset.list_files(str(GCS_PATH + '/test/*/*'))\n",
    "TEST_IMAGE_COUNT = tf.data.experimental.cardinality(test_list_ds).numpy()\n",
    "test_ds = test_list_ds.map(process_path, num_parallel_calls=AUTOTUNE)\n",
    "test_ds = test_ds.batch(BATCH_SIZE)\n",
    "\n",
    "TEST_IMAGE_COUNT"
   ]
  },
  {
   "cell_type": "code",
   "execution_count": 52,
   "metadata": {
    "id": "4szvXCoWfAvC"
   },
   "outputs": [],
   "source": [
    "def prepare_for_training(ds, cache=False, shuffle_buffer_size=500):\n",
    "    # This is a small dataset, only load it once, and keep it in memory.\n",
    "    # use `.cache(filename)` to cache preprocessing work for datasets that don't\n",
    "    # fit in memory.\n",
    "    if cache:\n",
    "        if isinstance(cache, str):\n",
    "            ds = ds.cache(cache)\n",
    "        else:\n",
    "            ds = ds.cache()\n",
    "\n",
    "    ds = ds.shuffle(buffer_size=shuffle_buffer_size)\n",
    "\n",
    "    # Repeat forever\n",
    "    ds = ds.repeat()\n",
    "\n",
    "    ds = ds.batch(BATCH_SIZE)\n",
    "\n",
    "    # `prefetch` lets the dataset fetch batches in the background while the model\n",
    "    # is training.\n",
    "    ds = ds.prefetch(buffer_size=AUTOTUNE)\n",
    "\n",
    "    return ds"
   ]
  },
  {
   "cell_type": "code",
   "execution_count": 53,
   "metadata": {
    "id": "nrF9qYRlfAyb"
   },
   "outputs": [],
   "source": [
    "train_ds = prepare_for_training(train_ds)\n",
    "val_ds = prepare_for_training(val_ds)\n",
    "\n",
    "image_batch, label_batch = next(iter(train_ds))"
   ]
  },
  {
   "cell_type": "code",
   "execution_count": 54,
   "metadata": {
    "colab": {
     "base_uri": "https://localhost:8080/"
    },
    "id": "wvgijGrPaupj",
    "outputId": "8c3f48dd-7d6a-4c2d-9f26-8cbaa5387a61"
   },
   "outputs": [
    {
     "name": "stdout",
     "output_type": "stream",
     "text": [
      "(6, 1000)\n",
      "(6, 299, 299, 3)\n"
     ]
    }
   ],
   "source": [
    "# print(label_batch)\n",
    "print(label_batch.shape)\n",
    "print(image_batch.shape)"
   ]
  },
  {
   "cell_type": "code",
   "execution_count": 55,
   "metadata": {
    "id": "yxovfZ_1fKUy"
   },
   "outputs": [],
   "source": [
    "def show_batch(image_batch, label_batch):\n",
    "    fig, imgs = plt.subplots(BATCH_SIZE//4,4)\n",
    "    fig.tight_layout()\n",
    "    fig.set_figwidth(8) \n",
    "    for n in range(BATCH_SIZE):\n",
    "      imgs[n//4][n%4].imshow(image_batch[n])\n",
    "      if label_batch[n][0]:\n",
    "        imgs[n//4][n%4].set_title(\"PNEUMONIA\")\n",
    "      else:\n",
    "        imgs[n//4][n%4].set_title(\"NORMAL\")"
   ]
  },
  {
   "cell_type": "code",
   "execution_count": 56,
   "metadata": {
    "id": "gcbZboFFfKca"
   },
   "outputs": [],
   "source": [
    "# show_batch(image_batch.numpy(), label_batch.numpy())"
   ]
  },
  {
   "cell_type": "code",
   "execution_count": 57,
   "metadata": {
    "colab": {
     "base_uri": "https://localhost:8080/"
    },
    "id": "t2UJDxCvfKi7",
    "outputId": "cd787512-4a6a-48ff-c269-de4ef474a49b"
   },
   "outputs": [
    {
     "name": "stdout",
     "output_type": "stream",
     "text": [
      "[0.61861685] [-0.02126756]\n"
     ]
    }
   ],
   "source": [
    "bacterial_bias = np.log([COUNT_bacteria/COUNT_NORMAL])\n",
    "virus_bias = np.log([COUNT_virus/COUNT_NORMAL])\n",
    "print(bacterial_bias, virus_bias)"
   ]
  },
  {
   "cell_type": "code",
   "execution_count": 58,
   "metadata": {
    "colab": {
     "base_uri": "https://localhost:8080/"
    },
    "id": "lEwIAAQWfTwL",
    "outputId": "ad9e6df6-3860-4a5c-938c-b5e356888354"
   },
   "outputs": [
    {
     "name": "stdout",
     "output_type": "stream",
     "text": [
      "Weight for class 0: 1.28\n",
      "Weight for class 1: 0.69\n",
      "Weight for class 2: 1.31\n"
     ]
    }
   ],
   "source": [
    "weight_for_0 = (1 / COUNT_NORMAL)*(TRAIN_IMG_COUNT)/3.0 \n",
    "weight_for_1 = (1 / COUNT_bacteria)*(TRAIN_IMG_COUNT)/3.0\n",
    "weight_for_2 = (1 / COUNT_virus)*(TRAIN_IMG_COUNT)/3.0\n",
    "\n",
    "class_weight = {0: weight_for_0, 1: weight_for_1, 2: weight_for_2}\n",
    "\n",
    "print('Weight for class 0: {:.2f}'.format(weight_for_0))\n",
    "print('Weight for class 1: {:.2f}'.format(weight_for_1))\n",
    "print('Weight for class 2: {:.2f}'.format(weight_for_2))"
   ]
  },
  {
   "cell_type": "code",
   "execution_count": 59,
   "metadata": {
    "id": "AVG9EFYbV9IY"
   },
   "outputs": [],
   "source": [
    "import tensorflow as tf\n",
    "import numpy as np\n",
    "from PIL import Image\n",
    "import matplotlib.pyplot as plt\n",
    "from pathlib import Path\n",
    "import os\n",
    "\n",
    "def reformat(labels, number = 10) :\n",
    "    array = np.zeros((labels.shape[0], number))\n",
    "    i = 0\n",
    "    for label in labels :\n",
    "        array[i][label] = 1\n",
    "        i += 1\n",
    "    return array\n",
    "\n",
    "def loadData() :\n",
    "    (x_train, y_train_basic), (x_test, y_test_basic) = tf.keras.datasets.cifar10.load_data()\n",
    "    y_train = reformat(y_train_basic)\n",
    "    y_test = reformat(y_test_basic)\n",
    "    return x_train, y_train, x_test, y_test, y_train_basic, y_test_basic\n",
    "\n",
    "def optimizeModel(model, train_ds, val_ds, epochs = 150) :\n",
    "    model.compile(optimizer=tf.keras.optimizers.SGD(learning_rate=0.001, momentum=0.9), loss=tf.keras.losses.CategoricalCrossentropy(), metrics = ['accuracy'], jit_compile = True)\n",
    "    history = model.fit(train_ds, batch_size = 64, epochs = epochs, steps_per_epoch=TRAIN_IMG_COUNT // BATCH_SIZE, validation_data=val_ds, validation_steps=VAL_IMG_COUNT // BATCH_SIZE)\n",
    "    return model, history\n",
    "\n",
    "def plotHistory(history) :\n",
    "    acc = history.history['accuracy']\n",
    "    val_acc = history.history['val_accuracy']\n",
    "\n",
    "    loss = history.history['loss']\n",
    "    val_loss = history.history['val_loss']\n",
    "\n",
    "    plt.figure(figsize=(8, 8))\n",
    "    plt.subplot(2, 1, 1)\n",
    "    plt.plot(acc, label='Training Accuracy')\n",
    "    plt.plot(val_acc, label='Validation Accuracy')\n",
    "    plt.legend(loc='lower left')\n",
    "    plt.xlabel('epoch')\n",
    "    plt.ylabel('Accuracy')\n",
    "    plt.ylim([0,1.1])\n",
    "    plt.title('Training and Validation Accuracy')\n",
    "\n",
    "    plt.subplot(2, 1, 2)\n",
    "    plt.plot(loss, label='Training Loss')\n",
    "    plt.plot(np.array(val_loss) / 10, label='Validation Loss')\n",
    "    plt.legend(loc='lower left')\n",
    "    plt.xlabel('epoch')\n",
    "    plt.ylabel('Loss')\n",
    "    plt.title('Training and Validation Loss')\n",
    "    plt.show()\n",
    "\n",
    "\n",
    "def test(model, train_ds, test_ds, val_ds, doPlot = True, doEvaluate = True, epochs = 150) :\n",
    "    model, history = optimizeModel(model, train_ds, val_ds, epochs = epochs)\n",
    "    if doEvaluate : model.evaluate(test_ds)\n",
    "    if doPlot : plotHistory(history)\n",
    "    return model\n",
    "\n",
    "def prepareXception(train_ds, test_ds, val_ds, model, doFreeze = True, epochs = 150) :\n",
    "    for layer in model.layers :\n",
    "      if doFreeze or layer.name[:5] == \"batch\" :\n",
    "          layer.trainable = False\n",
    "      else :\n",
    "          layer.trainable = True\n",
    "    if doFreeze :\n",
    "        model.layers[-2] = tf.keras.layers.GlobalAveragePooling2D()\n",
    "        model.layers[-1] = tf.keras.layers.Dense(units = 2, activation = 'softmax')\n",
    "    model.layers[-2].trainable = True\n",
    "    model.layers[-1].trainable = True\n",
    "    \n",
    "    return test(model, train_ds, test_ds, val_ds, doPlot = True, doEvaluate = True, epochs = epochs)\n",
    "\n",
    "def step3(train_ds, test_ds, val_ds, doFreeze = True, epochs = 40, doPredict = True) :\n",
    "    model = tf.keras.applications.Xception(include_top=True, weights=\"imagenet\", input_tensor=None, input_shape=None, pooling=None, classes=1000, classifier_activation=\"softmax\")\n",
    "    model = prepareXception(train_ds, test_ds, val_ds, model, doFreeze, epochs)\n",
    "    return model"
   ]
  },
  {
   "cell_type": "code",
   "execution_count": 60,
   "metadata": {
    "colab": {
     "base_uri": "https://localhost:8080/",
     "height": 1000
    },
    "id": "9Z6LD3klWNgC",
    "outputId": "5f15ed4f-98b7-450b-e315-75803697a16f"
   },
   "outputs": [
    {
     "name": "stdout",
     "output_type": "stream",
     "text": [
      "Epoch 1/50\n",
      "698/698 [==============================] - 162s 194ms/step - loss: 0.9274 - accuracy: 0.6891 - val_loss: 0.7033 - val_accuracy: 0.6964\n",
      "Epoch 2/50\n",
      "698/698 [==============================] - 175s 251ms/step - loss: 0.6662 - accuracy: 0.7266 - val_loss: 0.6226 - val_accuracy: 0.7404\n",
      "Epoch 3/50\n",
      "698/698 [==============================] - 122s 174ms/step - loss: 0.5390 - accuracy: 0.7720 - val_loss: 0.6105 - val_accuracy: 0.7270\n",
      "Epoch 4/50\n",
      "698/698 [==============================] - 172s 247ms/step - loss: 0.5779 - accuracy: 0.7560 - val_loss: 0.5739 - val_accuracy: 0.7615\n",
      "Epoch 5/50\n",
      "698/698 [==============================] - 126s 181ms/step - loss: 0.4993 - accuracy: 0.7925 - val_loss: 0.5582 - val_accuracy: 0.7672\n",
      "Epoch 6/50\n",
      "698/698 [==============================] - 178s 256ms/step - loss: 0.5547 - accuracy: 0.7693 - val_loss: 0.5716 - val_accuracy: 0.7510\n",
      "Epoch 7/50\n",
      "698/698 [==============================] - 130s 187ms/step - loss: 0.4840 - accuracy: 0.7989 - val_loss: 0.5340 - val_accuracy: 0.7797\n",
      "Epoch 8/50\n",
      "698/698 [==============================] - 152s 219ms/step - loss: 0.5466 - accuracy: 0.7689 - val_loss: 0.5533 - val_accuracy: 0.7596\n",
      "Epoch 9/50\n",
      "698/698 [==============================] - 128s 184ms/step - loss: 0.4694 - accuracy: 0.7997 - val_loss: 0.5135 - val_accuracy: 0.7787\n",
      "Epoch 10/50\n",
      "698/698 [==============================] - 159s 228ms/step - loss: 0.5281 - accuracy: 0.7815 - val_loss: 0.5419 - val_accuracy: 0.7730\n",
      "Epoch 11/50\n",
      "698/698 [==============================] - 157s 225ms/step - loss: 0.4601 - accuracy: 0.8064 - val_loss: 0.5256 - val_accuracy: 0.7816\n",
      "Epoch 12/50\n",
      "698/698 [==============================] - 160s 230ms/step - loss: 0.5242 - accuracy: 0.7849 - val_loss: 0.5317 - val_accuracy: 0.7739\n",
      "Epoch 13/50\n",
      "698/698 [==============================] - 162s 232ms/step - loss: 0.4518 - accuracy: 0.8092 - val_loss: 0.5054 - val_accuracy: 0.7835\n",
      "Epoch 14/50\n",
      "698/698 [==============================] - 199s 286ms/step - loss: 0.5184 - accuracy: 0.7772 - val_loss: 0.5464 - val_accuracy: 0.7692\n",
      "Epoch 15/50\n",
      "698/698 [==============================] - 158s 226ms/step - loss: 0.4492 - accuracy: 0.8047 - val_loss: 0.5069 - val_accuracy: 0.7768\n",
      "Epoch 16/50\n",
      "698/698 [==============================] - 155s 222ms/step - loss: 0.5086 - accuracy: 0.7853 - val_loss: 0.5518 - val_accuracy: 0.7672\n",
      "Epoch 17/50\n",
      "698/698 [==============================] - 131s 188ms/step - loss: 0.4433 - accuracy: 0.8085 - val_loss: 0.5116 - val_accuracy: 0.7893\n",
      "Epoch 18/50\n",
      "698/698 [==============================] - 151s 216ms/step - loss: 0.5126 - accuracy: 0.7839 - val_loss: 0.5295 - val_accuracy: 0.7711\n",
      "Epoch 19/50\n",
      "698/698 [==============================] - 160s 229ms/step - loss: 0.4296 - accuracy: 0.8192 - val_loss: 0.5268 - val_accuracy: 0.7768\n",
      "Epoch 20/50\n",
      "698/698 [==============================] - 161s 232ms/step - loss: 0.5005 - accuracy: 0.7899 - val_loss: 0.5063 - val_accuracy: 0.7883\n",
      "Epoch 21/50\n",
      "698/698 [==============================] - 157s 225ms/step - loss: 0.4291 - accuracy: 0.8185 - val_loss: 0.5004 - val_accuracy: 0.7807\n",
      "Epoch 22/50\n",
      "698/698 [==============================] - 164s 235ms/step - loss: 0.5001 - accuracy: 0.7942 - val_loss: 0.5600 - val_accuracy: 0.7529\n",
      "Epoch 23/50\n",
      "698/698 [==============================] - 117s 168ms/step - loss: 0.4245 - accuracy: 0.8226 - val_loss: 0.5091 - val_accuracy: 0.7845\n",
      "Epoch 24/50\n",
      "698/698 [==============================] - 159s 229ms/step - loss: 0.4969 - accuracy: 0.7853 - val_loss: 0.5396 - val_accuracy: 0.7672\n",
      "Epoch 25/50\n",
      "698/698 [==============================] - 157s 226ms/step - loss: 0.4223 - accuracy: 0.8185 - val_loss: 0.5084 - val_accuracy: 0.7816\n",
      "Epoch 26/50\n",
      "698/698 [==============================] - 160s 229ms/step - loss: 0.4932 - accuracy: 0.7894 - val_loss: 0.5135 - val_accuracy: 0.7739\n",
      "Epoch 27/50\n",
      "698/698 [==============================] - 158s 226ms/step - loss: 0.4138 - accuracy: 0.8245 - val_loss: 0.5811 - val_accuracy: 0.7471\n",
      "Epoch 28/50\n",
      "698/698 [==============================] - 166s 238ms/step - loss: 0.4953 - accuracy: 0.7915 - val_loss: 0.5508 - val_accuracy: 0.7596\n",
      "Epoch 29/50\n",
      "698/698 [==============================] - 117s 168ms/step - loss: 0.4150 - accuracy: 0.8223 - val_loss: 0.5064 - val_accuracy: 0.7979\n",
      "Epoch 30/50\n",
      "698/698 [==============================] - 168s 241ms/step - loss: 0.4825 - accuracy: 0.7937 - val_loss: 0.5274 - val_accuracy: 0.7730\n",
      "Epoch 31/50\n",
      "698/698 [==============================] - 121s 173ms/step - loss: 0.4096 - accuracy: 0.8266 - val_loss: 0.5049 - val_accuracy: 0.7912\n",
      "Epoch 32/50\n",
      "698/698 [==============================] - 157s 225ms/step - loss: 0.4885 - accuracy: 0.7949 - val_loss: 0.5198 - val_accuracy: 0.7759\n",
      "Epoch 33/50\n",
      "698/698 [==============================] - 124s 178ms/step - loss: 0.4137 - accuracy: 0.8257 - val_loss: 0.5224 - val_accuracy: 0.7739\n",
      "Epoch 34/50\n",
      "698/698 [==============================] - 157s 225ms/step - loss: 0.4792 - accuracy: 0.7947 - val_loss: 0.5221 - val_accuracy: 0.7807\n",
      "Epoch 35/50\n",
      "698/698 [==============================] - 156s 224ms/step - loss: 0.4059 - accuracy: 0.8262 - val_loss: 0.5041 - val_accuracy: 0.7768\n",
      "Epoch 36/50\n",
      "698/698 [==============================] - 157s 225ms/step - loss: 0.4859 - accuracy: 0.7877 - val_loss: 0.4908 - val_accuracy: 0.7826\n",
      "Epoch 37/50\n",
      "698/698 [==============================] - 117s 167ms/step - loss: 0.4013 - accuracy: 0.8266 - val_loss: 0.4952 - val_accuracy: 0.7845\n",
      "Epoch 38/50\n",
      "698/698 [==============================] - 160s 229ms/step - loss: 0.4770 - accuracy: 0.7992 - val_loss: 0.5158 - val_accuracy: 0.7759\n",
      "Epoch 39/50\n",
      "698/698 [==============================] - 159s 228ms/step - loss: 0.3981 - accuracy: 0.8312 - val_loss: 0.5052 - val_accuracy: 0.7749\n",
      "Epoch 40/50\n",
      "698/698 [==============================] - 158s 227ms/step - loss: 0.4785 - accuracy: 0.8004 - val_loss: 0.5408 - val_accuracy: 0.7682\n",
      "Epoch 41/50\n",
      "698/698 [==============================] - 124s 177ms/step - loss: 0.4006 - accuracy: 0.8288 - val_loss: 0.4895 - val_accuracy: 0.7883\n",
      "Epoch 42/50\n",
      "698/698 [==============================] - 155s 222ms/step - loss: 0.4783 - accuracy: 0.7966 - val_loss: 0.5316 - val_accuracy: 0.7644\n",
      "Epoch 43/50\n",
      "698/698 [==============================] - 120s 173ms/step - loss: 0.4000 - accuracy: 0.8281 - val_loss: 0.5114 - val_accuracy: 0.7759\n",
      "Epoch 44/50\n",
      "698/698 [==============================] - 205s 294ms/step - loss: 0.4720 - accuracy: 0.8006 - val_loss: 0.5127 - val_accuracy: 0.7807\n",
      "Epoch 45/50\n",
      "698/698 [==============================] - 120s 173ms/step - loss: 0.3917 - accuracy: 0.8381 - val_loss: 0.4906 - val_accuracy: 0.7902\n",
      "Epoch 46/50\n",
      "698/698 [==============================] - 161s 231ms/step - loss: 0.4758 - accuracy: 0.7954 - val_loss: 0.5524 - val_accuracy: 0.7720\n",
      "Epoch 47/50\n",
      "698/698 [==============================] - 157s 225ms/step - loss: 0.3912 - accuracy: 0.8360 - val_loss: 0.4695 - val_accuracy: 0.7979\n",
      "Epoch 48/50\n",
      "698/698 [==============================] - 157s 225ms/step - loss: 0.4789 - accuracy: 0.7939 - val_loss: 0.5115 - val_accuracy: 0.7787\n",
      "Epoch 49/50\n",
      "698/698 [==============================] - 157s 226ms/step - loss: 0.3904 - accuracy: 0.8352 - val_loss: 0.4846 - val_accuracy: 0.7979\n",
      "Epoch 50/50\n",
      "698/698 [==============================] - 159s 228ms/step - loss: 0.4678 - accuracy: 0.8037 - val_loss: 0.5066 - val_accuracy: 0.7749\n",
      "104/104 [==============================] - 88s 840ms/step - loss: 0.5202 - accuracy: 0.8381\n"
     ]
    },
    {
     "data": {
      "image/png": "[encoded data removed]",
      "text/plain": [
       "<Figure size 800x800 with 2 Axes>"
      ]
     },
     "metadata": {},
     "output_type": "display_data"
    }
   ],
   "source": [
    "model, y_test, x_test = None, None, None\n",
    "\n",
    "if __name__ == \"__main__\" :\n",
    "    model__y_test__x_test = step3(train_ds, test_ds, val_ds, doFreeze = True, epochs = 50)"
   ]
  },
  {
   "cell_type": "code",
   "execution_count": null,
   "metadata": {
    "id": "KnWRosy3ER4P"
   },
   "outputs": [],
   "source": []
  }
 ],
 "metadata": {
  "accelerator": "GPU",
  "colab": {
   "gpuType": "T4",
   "provenance": []
  },
  "kernelspec": {
   "display_name": "Python 3",
   "language": "python",
   "name": "python3"
  },
  "language_info": {
   "codemirror_mode": {
    "name": "ipython",
    "version": 3
   },
   "file_extension": ".py",
   "mimetype": "text/x-python",
   "name": "python",
   "nbconvert_exporter": "python",
   "pygments_lexer": "ipython3",
   "version": "3.8.12"
  }
 },
 "nbformat": 4,
 "nbformat_minor": 1
}
