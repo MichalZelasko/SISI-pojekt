{
  "nbformat": 4,
  "nbformat_minor": 0,
  "metadata": {
    "colab": {
      "provenance": [],
      "gpuType": "T4"
    },
    "kernelspec": {
      "name": "python3",
      "display_name": "Python 3"
    },
    "language_info": {
      "name": "python"
    },
    "accelerator": "GPU"
  },
  "cells": [
    {
      "cell_type": "code",
      "source": [
        "import re\n",
        "import os\n",
        "import numpy as np\n",
        "import pandas as pd\n",
        "import tensorflow as tf\n",
        "from functools import partial\n",
        "import matplotlib.pyplot as plt\n",
        "from sklearn.model_selection import train_test_split\n",
        "from keras.preprocessing.image import ImageDataGenerator\n",
        "from sklearn import metrics\n",
        "\n",
        "try:\n",
        "    tpu = tf.distribute.cluster_resolver.TPUClusterResolver()\n",
        "    print('Device:', tpu.master())\n",
        "    tf.config.experimental_connect_to_cluster(tpu)\n",
        "    tf.tpu.experimental.initialize_tpu_system(tpu)\n",
        "    strategy = tf.distribute.experimental.TPUStrategy(tpu)\n",
        "except:\n",
        "    strategy = tf.distribute.get_strategy()\n",
        "print('Number of replicas:', strategy.num_replicas_in_sync)\n",
        "    \n",
        "print(tf.__version__)\n"
      ],
      "metadata": {
        "id": "r2ynPJL5atfr",
        "colab": {
          "base_uri": "https://localhost:8080/"
        },
        "outputId": "7cee11d0-fa0b-4441-c145-6cecd4cafad9"
      },
      "execution_count": 5,
      "outputs": [
        {
          "output_type": "stream",
          "name": "stdout",
          "text": [
            "Number of replicas: 1\n",
            "2.12.0\n"
          ]
        }
      ]
    },
    {
      "cell_type": "code",
      "source": [
        "AUTOTUNE = tf.data.experimental.AUTOTUNE\n",
        "BATCH_SIZE = 6 * strategy.num_replicas_in_sync\n",
        "IMAGE_SIZE = [299, 299]\n",
        "EPOCHS = 25"
      ],
      "metadata": {
        "id": "2rVpPcFGaujz"
      },
      "execution_count": 6,
      "outputs": []
    },
    {
      "cell_type": "code",
      "source": [
        "from pydrive.auth import GoogleAuth\n",
        "from google.colab import drive\n",
        "from pydrive.drive import GoogleDrive\n",
        "from google.colab import auth\n",
        "from oauth2client.client import GoogleCredentials"
      ],
      "metadata": {
        "id": "YtIkz4R8aum6"
      },
      "execution_count": 7,
      "outputs": []
    },
    {
      "cell_type": "code",
      "source": [
        "from google.colab import drive\n",
        "drive.mount('/gdrive')\n",
        "%cd /gdrive\n",
        "%cd MyDrive"
      ],
      "metadata": {
        "id": "1WCL6pcga0F6",
        "colab": {
          "base_uri": "https://localhost:8080/"
        },
        "outputId": "7585f954-2b1b-4bb2-fc85-dada0ec37215"
      },
      "execution_count": 8,
      "outputs": [
        {
          "output_type": "stream",
          "name": "stdout",
          "text": [
            "Drive already mounted at /gdrive; to attempt to forcibly remount, call drive.mount(\"/gdrive\", force_remount=True).\n",
            "/gdrive\n",
            "/gdrive/MyDrive\n"
          ]
        }
      ]
    },
    {
      "cell_type": "code",
      "source": [
        "GCS_PATH = 'chest_xray'"
      ],
      "metadata": {
        "id": "apE7vPf7a0JB"
      },
      "execution_count": 9,
      "outputs": []
    },
    {
      "cell_type": "code",
      "source": [
        "filenames = tf.io.gfile.glob(str(GCS_PATH + '/train/*/*'))\n",
        "filenames.extend(tf.io.gfile.glob(str(GCS_PATH + '/val/*/*')))\n",
        "\n",
        "train_filenames, val_filenames = train_test_split(filenames, test_size=0.2)"
      ],
      "metadata": {
        "id": "3N0nMHoqa0Lo"
      },
      "execution_count": 10,
      "outputs": []
    },
    {
      "cell_type": "code",
      "source": [
        "COUNT_NORMAL = len([filename for filename in train_filenames if \"NORMAL\" in filename])\n",
        "print(\"Normal images count in training set: \" + str(COUNT_NORMAL))\n",
        "\n",
        "COUNT_PNEUMONIA = len([filename for filename in train_filenames if \"PNEUMONIA\" in filename])\n",
        "print(\"Pneumonia images count in training set: \" + str(COUNT_PNEUMONIA))"
      ],
      "metadata": {
        "id": "xjKSuqhxa0Ny",
        "colab": {
          "base_uri": "https://localhost:8080/"
        },
        "outputId": "20ef010e-e59b-4e2e-ce14-7b2c4f77a72b"
      },
      "execution_count": 11,
      "outputs": [
        {
          "output_type": "stream",
          "name": "stdout",
          "text": [
            "Normal images count in training set: 1081\n",
            "Pneumonia images count in training set: 3111\n"
          ]
        }
      ]
    },
    {
      "cell_type": "code",
      "source": [
        "train_list_ds = tf.data.Dataset.from_tensor_slices(train_filenames)\n",
        "val_list_ds = tf.data.Dataset.from_tensor_slices(val_filenames)\n",
        "\n",
        "for f in train_list_ds.take(5):\n",
        "    print(f.numpy())"
      ],
      "metadata": {
        "id": "Na0QGNpfa0QV",
        "colab": {
          "base_uri": "https://localhost:8080/"
        },
        "outputId": "9ec31114-0394-4070-ded4-2df1181c1c90"
      },
      "execution_count": 12,
      "outputs": [
        {
          "output_type": "stream",
          "name": "stdout",
          "text": [
            "b'chest_xray/train/PNEUMONIA/person1532_virus_2667.jpeg'\n",
            "b'chest_xray/train/NORMAL/IM-0275-0001.jpeg'\n",
            "b'chest_xray/train/PNEUMONIA/person25_bacteria_113.jpeg'\n",
            "b'chest_xray/train/PNEUMONIA/person1242_virus_2108.jpeg'\n",
            "b'chest_xray/train/PNEUMONIA/person25_bacteria_118.jpeg'\n"
          ]
        }
      ]
    },
    {
      "cell_type": "code",
      "source": [
        "TRAIN_IMG_COUNT = tf.data.experimental.cardinality(train_list_ds).numpy()\n",
        "print(\"Training images count: \" + str(TRAIN_IMG_COUNT))\n",
        "\n",
        "VAL_IMG_COUNT = tf.data.experimental.cardinality(val_list_ds).numpy()\n",
        "print(\"Validating images count: \" + str(VAL_IMG_COUNT))"
      ],
      "metadata": {
        "id": "m3diRWeya0S3",
        "colab": {
          "base_uri": "https://localhost:8080/"
        },
        "outputId": "4b912586-210a-4cdd-a09e-568f372b57aa"
      },
      "execution_count": 13,
      "outputs": [
        {
          "output_type": "stream",
          "name": "stdout",
          "text": [
            "Training images count: 4192\n",
            "Validating images count: 1049\n"
          ]
        }
      ]
    },
    {
      "cell_type": "code",
      "source": [
        "CLASS_NAMES = np.array([str(tf.strings.split(item, os.path.sep)[-1].numpy())[2:-1]\n",
        "                        for item in tf.io.gfile.glob(str(GCS_PATH + \"/chest_xray/train/*\"))])\n",
        "CLASS_NAMES"
      ],
      "metadata": {
        "id": "r4YSC-dVa0VS",
        "colab": {
          "base_uri": "https://localhost:8080/"
        },
        "outputId": "bb722bad-ae2d-4a89-ed71-02297a2cd49f"
      },
      "execution_count": 14,
      "outputs": [
        {
          "output_type": "execute_result",
          "data": {
            "text/plain": [
              "array([], dtype=float64)"
            ]
          },
          "metadata": {},
          "execution_count": 14
        }
      ]
    },
    {
      "cell_type": "markdown",
      "source": [
        "**Augmentation**"
      ],
      "metadata": {
        "id": "JaR6TbXSzAS-"
      }
    },
    {
      "cell_type": "code",
      "source": [
        "augment = tf.keras.Sequential([\n",
        "  tf.keras.layers.Resizing(*IMAGE_SIZE),\n",
        "  tf.keras.layers.RandomZoom(height_factor=(-0.05, -0.15),width_factor=(-0.05, -0.15)),\n",
        "\ttf.keras.layers.RandomRotation(0.1),\n",
        "])"
      ],
      "metadata": {
        "id": "QEfcS_fly-8o"
      },
      "execution_count": 15,
      "outputs": []
    },
    {
      "cell_type": "code",
      "source": [
        "def get_label(file_path):\n",
        "    # convert the path to a list of path components\n",
        "    parts = tf.strings.split(file_path, os.path.sep)\n",
        "    # The second to last is the class-directory\n",
        "    return parts[-2]"
      ],
      "metadata": {
        "id": "QDP_JW1qa0Xp"
      },
      "execution_count": 16,
      "outputs": []
    },
    {
      "cell_type": "code",
      "source": [
        "def decode_img(img, augmentation=False):\n",
        "  # convert the compressed string to a 3D uint8 tensor\n",
        "  img = tf.image.decode_jpeg(img, channels=3)\n",
        "  # Use `convert_image_dtype` to convert to floats in the [0,1] range.\n",
        "  img = tf.image.convert_image_dtype(img, tf.float32)\n",
        "  # resize the image to the desired size.\n",
        "  if augmentation:\n",
        "    return augment(img)\n",
        "  \n",
        "  return tf.image.resize(img,IMAGE_SIZE)"
      ],
      "metadata": {
        "id": "Hee62TJJa0aD"
      },
      "execution_count": 17,
      "outputs": []
    },
    {
      "cell_type": "code",
      "source": [
        "def process_path(file_path, augmentation=False):\n",
        "    label = get_label(file_path)\n",
        "    # load the raw data from the file as a string\n",
        "    img = tf.io.read_file(file_path)\n",
        "    img = decode_img(img, augmentation)\n",
        "    labels = [int(label == \"PNEUMONIA\"), int(label == \"NORMAL\")]\n",
        "    labels.extend([0] * 998)\n",
        "    return img, labels"
      ],
      "metadata": {
        "id": "Kx6uWRPObKzb"
      },
      "execution_count": 18,
      "outputs": []
    },
    {
      "cell_type": "code",
      "source": [
        "train_ds = train_list_ds.map(partial(process_path, augmentation=False), num_parallel_calls=AUTOTUNE)\n",
        "train_ds_aug = train_list_ds.map(partial(process_path, augmentation=True), num_parallel_calls=AUTOTUNE)\n",
        "\n",
        "train_ds = tf.data.Dataset.concatenate(train_ds, train_ds_aug.take(3000))\n",
        "\n",
        "val_ds = val_list_ds.map(partial(process_path, augmentation=False), num_parallel_calls=AUTOTUNE)\n",
        "val_ds_aug = val_list_ds.map(partial(process_path, augmentation=True), num_parallel_calls=AUTOTUNE)\n",
        "val_ds = tf.data.Dataset.concatenate(val_ds, val_ds_aug)\n"
      ],
      "metadata": {
        "id": "M4bZVyUwbK2y"
      },
      "execution_count": 19,
      "outputs": []
    },
    {
      "cell_type": "code",
      "source": [
        "# train_ds_length = tf.data.experimental.cardinality(train_ds).numpy()\n",
        "# print(\"Number of images in train_ds:\", train_ds_length)"
      ],
      "metadata": {
        "id": "KtSsHmaVg-7Y"
      },
      "execution_count": 20,
      "outputs": []
    },
    {
      "cell_type": "code",
      "source": [
        "# train_list_ds = tf.data.Dataset.list_files(str(GCS_PATH + '/train/*/*'))\n",
        "# tf.data.experimental.cardinality(train_list_ds).numpy()"
      ],
      "metadata": {
        "id": "Qvr2LSU8gBiu"
      },
      "execution_count": 21,
      "outputs": []
    },
    {
      "cell_type": "code",
      "source": [
        "for image, label in train_ds.take(1):\n",
        "    print(\"Image shape: \", image.numpy().shape)\n",
        "    print(\"Label: \", label.numpy())"
      ],
      "metadata": {
        "id": "_JtuY8mEbK6J",
        "colab": {
          "base_uri": "https://localhost:8080/"
        },
        "outputId": "f5f41534-9676-4d0f-d849-ebd07ac61308"
      },
      "execution_count": 22,
      "outputs": [
        {
          "output_type": "stream",
          "name": "stdout",
          "text": [
            "Image shape:  (299, 299, 3)\n",
            "Label:  [1 0 0 0 0 0 0 0 0 0 0 0 0 0 0 0 0 0 0 0 0 0 0 0 0 0 0 0 0 0 0 0 0 0 0 0 0\n",
            " 0 0 0 0 0 0 0 0 0 0 0 0 0 0 0 0 0 0 0 0 0 0 0 0 0 0 0 0 0 0 0 0 0 0 0 0 0\n",
            " 0 0 0 0 0 0 0 0 0 0 0 0 0 0 0 0 0 0 0 0 0 0 0 0 0 0 0 0 0 0 0 0 0 0 0 0 0\n",
            " 0 0 0 0 0 0 0 0 0 0 0 0 0 0 0 0 0 0 0 0 0 0 0 0 0 0 0 0 0 0 0 0 0 0 0 0 0\n",
            " 0 0 0 0 0 0 0 0 0 0 0 0 0 0 0 0 0 0 0 0 0 0 0 0 0 0 0 0 0 0 0 0 0 0 0 0 0\n",
            " 0 0 0 0 0 0 0 0 0 0 0 0 0 0 0 0 0 0 0 0 0 0 0 0 0 0 0 0 0 0 0 0 0 0 0 0 0\n",
            " 0 0 0 0 0 0 0 0 0 0 0 0 0 0 0 0 0 0 0 0 0 0 0 0 0 0 0 0 0 0 0 0 0 0 0 0 0\n",
            " 0 0 0 0 0 0 0 0 0 0 0 0 0 0 0 0 0 0 0 0 0 0 0 0 0 0 0 0 0 0 0 0 0 0 0 0 0\n",
            " 0 0 0 0 0 0 0 0 0 0 0 0 0 0 0 0 0 0 0 0 0 0 0 0 0 0 0 0 0 0 0 0 0 0 0 0 0\n",
            " 0 0 0 0 0 0 0 0 0 0 0 0 0 0 0 0 0 0 0 0 0 0 0 0 0 0 0 0 0 0 0 0 0 0 0 0 0\n",
            " 0 0 0 0 0 0 0 0 0 0 0 0 0 0 0 0 0 0 0 0 0 0 0 0 0 0 0 0 0 0 0 0 0 0 0 0 0\n",
            " 0 0 0 0 0 0 0 0 0 0 0 0 0 0 0 0 0 0 0 0 0 0 0 0 0 0 0 0 0 0 0 0 0 0 0 0 0\n",
            " 0 0 0 0 0 0 0 0 0 0 0 0 0 0 0 0 0 0 0 0 0 0 0 0 0 0 0 0 0 0 0 0 0 0 0 0 0\n",
            " 0 0 0 0 0 0 0 0 0 0 0 0 0 0 0 0 0 0 0 0 0 0 0 0 0 0 0 0 0 0 0 0 0 0 0 0 0\n",
            " 0 0 0 0 0 0 0 0 0 0 0 0 0 0 0 0 0 0 0 0 0 0 0 0 0 0 0 0 0 0 0 0 0 0 0 0 0\n",
            " 0 0 0 0 0 0 0 0 0 0 0 0 0 0 0 0 0 0 0 0 0 0 0 0 0 0 0 0 0 0 0 0 0 0 0 0 0\n",
            " 0 0 0 0 0 0 0 0 0 0 0 0 0 0 0 0 0 0 0 0 0 0 0 0 0 0 0 0 0 0 0 0 0 0 0 0 0\n",
            " 0 0 0 0 0 0 0 0 0 0 0 0 0 0 0 0 0 0 0 0 0 0 0 0 0 0 0 0 0 0 0 0 0 0 0 0 0\n",
            " 0 0 0 0 0 0 0 0 0 0 0 0 0 0 0 0 0 0 0 0 0 0 0 0 0 0 0 0 0 0 0 0 0 0 0 0 0\n",
            " 0 0 0 0 0 0 0 0 0 0 0 0 0 0 0 0 0 0 0 0 0 0 0 0 0 0 0 0 0 0 0 0 0 0 0 0 0\n",
            " 0 0 0 0 0 0 0 0 0 0 0 0 0 0 0 0 0 0 0 0 0 0 0 0 0 0 0 0 0 0 0 0 0 0 0 0 0\n",
            " 0 0 0 0 0 0 0 0 0 0 0 0 0 0 0 0 0 0 0 0 0 0 0 0 0 0 0 0 0 0 0 0 0 0 0 0 0\n",
            " 0 0 0 0 0 0 0 0 0 0 0 0 0 0 0 0 0 0 0 0 0 0 0 0 0 0 0 0 0 0 0 0 0 0 0 0 0\n",
            " 0 0 0 0 0 0 0 0 0 0 0 0 0 0 0 0 0 0 0 0 0 0 0 0 0 0 0 0 0 0 0 0 0 0 0 0 0\n",
            " 0 0 0 0 0 0 0 0 0 0 0 0 0 0 0 0 0 0 0 0 0 0 0 0 0 0 0 0 0 0 0 0 0 0 0 0 0\n",
            " 0 0 0 0 0 0 0 0 0 0 0 0 0 0 0 0 0 0 0 0 0 0 0 0 0 0 0 0 0 0 0 0 0 0 0 0 0\n",
            " 0 0 0 0 0 0 0 0 0 0 0 0 0 0 0 0 0 0 0 0 0 0 0 0 0 0 0 0 0 0 0 0 0 0 0 0 0\n",
            " 0]\n"
          ]
        }
      ]
    },
    {
      "cell_type": "code",
      "source": [
        "test_list_ds = tf.data.Dataset.list_files(str(GCS_PATH + '/test/*/*'))\n",
        "TEST_IMAGE_COUNT = tf.data.experimental.cardinality(test_list_ds).numpy()\n",
        "test_ds = test_list_ds.map(process_path, num_parallel_calls=AUTOTUNE)\n",
        "test_ds = test_ds.batch(BATCH_SIZE)\n",
        "\n",
        "TEST_IMAGE_COUNT"
      ],
      "metadata": {
        "id": "iMj16z0ofAmT",
        "colab": {
          "base_uri": "https://localhost:8080/"
        },
        "outputId": "48912505-7769-403b-eff7-d3dac9e49ebd"
      },
      "execution_count": 23,
      "outputs": [
        {
          "output_type": "execute_result",
          "data": {
            "text/plain": [
              "624"
            ]
          },
          "metadata": {},
          "execution_count": 23
        }
      ]
    },
    {
      "cell_type": "code",
      "source": [
        "def prepare_for_training(ds, cache=False, shuffle_buffer_size=500):\n",
        "    # This is a small dataset, only load it once, and keep it in memory.\n",
        "    # use `.cache(filename)` to cache preprocessing work for datasets that don't\n",
        "    # fit in memory.\n",
        "    if cache:\n",
        "        if isinstance(cache, str):\n",
        "            ds = ds.cache(cache)\n",
        "        else:\n",
        "            ds = ds.cache()\n",
        "\n",
        "    ds = ds.shuffle(buffer_size=shuffle_buffer_size)\n",
        "\n",
        "    # Repeat forever\n",
        "    ds = ds.repeat()\n",
        "\n",
        "    ds = ds.batch(BATCH_SIZE)\n",
        "\n",
        "    # `prefetch` lets the dataset fetch batches in the background while the model\n",
        "    # is training.\n",
        "    ds = ds.prefetch(buffer_size=AUTOTUNE)\n",
        "\n",
        "    return ds"
      ],
      "metadata": {
        "id": "4szvXCoWfAvC"
      },
      "execution_count": 24,
      "outputs": []
    },
    {
      "cell_type": "code",
      "source": [
        "train_ds = prepare_for_training(train_ds)\n",
        "val_ds = prepare_for_training(val_ds)\n",
        "\n",
        "image_batch, label_batch = next(iter(train_ds))"
      ],
      "metadata": {
        "id": "nrF9qYRlfAyb"
      },
      "execution_count": 25,
      "outputs": []
    },
    {
      "cell_type": "code",
      "source": [
        "# print(label_batch)\n",
        "print(label_batch.shape)\n",
        "print(image_batch.shape)"
      ],
      "metadata": {
        "id": "wvgijGrPaupj",
        "colab": {
          "base_uri": "https://localhost:8080/"
        },
        "outputId": "54f764f0-bf3e-4550-b418-b2fc545faf7a"
      },
      "execution_count": 26,
      "outputs": [
        {
          "output_type": "stream",
          "name": "stdout",
          "text": [
            "(6, 1000)\n",
            "(6, 299, 299, 3)\n"
          ]
        }
      ]
    },
    {
      "cell_type": "code",
      "source": [
        "def show_batch(image_batch, label_batch):\n",
        "    fig, imgs = plt.subplots(BATCH_SIZE//4,4)\n",
        "    fig.tight_layout()\n",
        "    fig.set_figwidth(8) \n",
        "    for n in range(BATCH_SIZE):\n",
        "      imgs[n//4][n%4].imshow(image_batch[n])\n",
        "      if label_batch[n][0]:\n",
        "        imgs[n//4][n%4].set_title(\"PNEUMONIA\")\n",
        "      else:\n",
        "        imgs[n//4][n%4].set_title(\"NORMAL\")"
      ],
      "metadata": {
        "id": "yxovfZ_1fKUy"
      },
      "execution_count": 27,
      "outputs": []
    },
    {
      "cell_type": "code",
      "source": [
        "# show_batch(image_batch.numpy(), label_batch.numpy())"
      ],
      "metadata": {
        "id": "gcbZboFFfKca"
      },
      "execution_count": 28,
      "outputs": []
    },
    {
      "cell_type": "code",
      "source": [
        "initial_bias = np.log([COUNT_PNEUMONIA/COUNT_NORMAL])\n",
        "initial_bias"
      ],
      "metadata": {
        "id": "t2UJDxCvfKi7",
        "colab": {
          "base_uri": "https://localhost:8080/"
        },
        "outputId": "383da091-a101-4a3f-828b-c7ead2c85af1"
      },
      "execution_count": 29,
      "outputs": [
        {
          "output_type": "execute_result",
          "data": {
            "text/plain": [
              "array([1.05705768])"
            ]
          },
          "metadata": {},
          "execution_count": 29
        }
      ]
    },
    {
      "cell_type": "code",
      "source": [
        "weight_for_0 = (1 / COUNT_NORMAL)*(TRAIN_IMG_COUNT)/2.0 \n",
        "weight_for_1 = (1 / COUNT_PNEUMONIA)*(TRAIN_IMG_COUNT)/2.0\n",
        "\n",
        "class_weight = {0: weight_for_0, 1: weight_for_1}\n",
        "\n",
        "print('Weight for class 0: {:.2f}'.format(weight_for_0))\n",
        "print('Weight for class 1: {:.2f}'.format(weight_for_1))"
      ],
      "metadata": {
        "id": "lEwIAAQWfTwL",
        "colab": {
          "base_uri": "https://localhost:8080/"
        },
        "outputId": "12b7c9b9-4e46-41e6-ef48-91e592922cd3"
      },
      "execution_count": 30,
      "outputs": [
        {
          "output_type": "stream",
          "name": "stdout",
          "text": [
            "Weight for class 0: 1.94\n",
            "Weight for class 1: 0.67\n"
          ]
        }
      ]
    },
    {
      "cell_type": "code",
      "execution_count": 31,
      "metadata": {
        "id": "AVG9EFYbV9IY"
      },
      "outputs": [],
      "source": [
        "import tensorflow as tf\n",
        "import numpy as np\n",
        "from PIL import Image\n",
        "import matplotlib.pyplot as plt\n",
        "from pathlib import Path\n",
        "import os\n",
        "\n",
        "def reformat(labels, number = 10) :\n",
        "    array = np.zeros((labels.shape[0], number))\n",
        "    i = 0\n",
        "    for label in labels :\n",
        "        array[i][label] = 1\n",
        "        i += 1\n",
        "    return array\n",
        "\n",
        "def loadData() :\n",
        "    (x_train, y_train_basic), (x_test, y_test_basic) = tf.keras.datasets.cifar10.load_data()\n",
        "    y_train = reformat(y_train_basic)\n",
        "    y_test = reformat(y_test_basic)\n",
        "    return x_train, y_train, x_test, y_test, y_train_basic, y_test_basic\n",
        "\n",
        "def optimizeModel(model, train_ds, val_ds, epochs = 150) :\n",
        "    model.compile(optimizer=tf.keras.optimizers.SGD(learning_rate=0.001, momentum=0.9), loss=tf.keras.losses.CategoricalCrossentropy(), metrics = ['accuracy'], jit_compile = True)\n",
        "    history = model.fit(train_ds, batch_size = 64, epochs = epochs, steps_per_epoch=TRAIN_IMG_COUNT // BATCH_SIZE, validation_data=val_ds, validation_steps=VAL_IMG_COUNT // BATCH_SIZE)\n",
        "    return model, history\n",
        "\n",
        "def plotHistory(history) :\n",
        "    acc = history.history['accuracy']\n",
        "    val_acc = history.history['val_accuracy']\n",
        "\n",
        "    loss = history.history['loss']\n",
        "    val_loss = history.history['val_loss']\n",
        "\n",
        "    plt.figure(figsize=(8, 8))\n",
        "    plt.subplot(2, 1, 1)\n",
        "    plt.plot(acc, label='Training Accuracy')\n",
        "    plt.plot(val_acc, label='Validation Accuracy')\n",
        "    plt.legend(loc='lower left')\n",
        "    plt.xlabel('epoch')\n",
        "    plt.ylabel('Accuracy')\n",
        "    plt.ylim([0,1.1])\n",
        "    plt.title('Training and Validation Accuracy')\n",
        "\n",
        "    plt.subplot(2, 1, 2)\n",
        "    plt.plot(loss, label='Training Loss')\n",
        "    plt.plot(np.array(val_loss) / 10, label='Validation Loss')\n",
        "    plt.legend(loc='lower left')\n",
        "    plt.xlabel('epoch')\n",
        "    plt.ylabel('Loss')\n",
        "    plt.title('Training and Validation Loss')\n",
        "    plt.show()\n",
        "\n",
        "\n",
        "def test(model, train_ds, test_ds, val_ds, doPlot = True, doEvaluate = True, epochs = 150) :\n",
        "    model, history = optimizeModel(model, train_ds, val_ds, epochs = epochs)\n",
        "    if doEvaluate : model.evaluate(test_ds)\n",
        "    if doPlot : plotHistory(history)\n",
        "    return model\n",
        "\n",
        "def prepareXception(train_ds, test_ds, val_ds, model, doFreeze = True, epochs = 150) :\n",
        "    for layer in model.layers :\n",
        "      if doFreeze or layer.name[:5] == \"batch\" :\n",
        "          layer.trainable = False\n",
        "      else :\n",
        "          layer.trainable = True\n",
        "    if doFreeze :\n",
        "        model.layers[-2] = tf.keras.layers.GlobalAveragePooling2D()\n",
        "        model.layers[-1] = tf.keras.layers.Dense(units = 2, activation = 'softmax')\n",
        "    model.layers[-2].trainable = True\n",
        "    model.layers[-1].trainable = True\n",
        "    \n",
        "    return test(model, train_ds, test_ds, val_ds, doPlot = True, doEvaluate = True, epochs = epochs)\n",
        "\n",
        "def step3(train_ds, test_ds, val_ds, doFreeze = True, epochs = 40, doPredict = True) :\n",
        "    model = tf.keras.applications.Xception(include_top=True, weights=\"imagenet\", input_tensor=None, input_shape=None, pooling=None, classes=1000, classifier_activation=\"softmax\")\n",
        "    model = prepareXception(train_ds, test_ds, val_ds, model, doFreeze, epochs)\n",
        "    return model"
      ]
    },
    {
      "cell_type": "code",
      "source": [
        "model, y_test, x_test = None, None, None\n",
        "\n",
        "if __name__ == \"__main__\" :\n",
        "    model__y_test__x_test = step3(train_ds, test_ds, val_ds, doFreeze = True, epochs = 20)"
      ],
      "metadata": {
        "colab": {
          "base_uri": "https://localhost:8080/",
          "height": 1000
        },
        "id": "9Z6LD3klWNgC",
        "outputId": "e8df8b8d-fa38-4ff6-deef-960638001805"
      },
      "execution_count": 32,
      "outputs": [
        {
          "output_type": "stream",
          "name": "stdout",
          "text": [
            "Downloading data from https://storage.googleapis.com/tensorflow/keras-applications/xception/xception_weights_tf_dim_ordering_tf_kernels.h5\n",
            "91884032/91884032 [==============================] - 5s 0us/step\n",
            "Epoch 1/20\n",
            "698/698 [==============================] - 1525s 2s/step - loss: 0.4352 - accuracy: 0.8837 - val_loss: 0.2444 - val_accuracy: 0.8937\n",
            "Epoch 2/20\n",
            "698/698 [==============================] - 132s 189ms/step - loss: 0.2131 - accuracy: 0.9198 - val_loss: 0.1773 - val_accuracy: 0.9387\n",
            "Epoch 3/20\n",
            "698/698 [==============================] - 128s 183ms/step - loss: 0.1603 - accuracy: 0.9379 - val_loss: 0.1964 - val_accuracy: 0.9186\n",
            "Epoch 4/20\n",
            "698/698 [==============================] - 114s 164ms/step - loss: 0.1432 - accuracy: 0.9451 - val_loss: 0.1608 - val_accuracy: 0.9387\n",
            "Epoch 5/20\n",
            "698/698 [==============================] - 134s 193ms/step - loss: 0.1452 - accuracy: 0.9422 - val_loss: 0.1669 - val_accuracy: 0.9387\n",
            "Epoch 6/20\n",
            "698/698 [==============================] - 106s 151ms/step - loss: 0.1170 - accuracy: 0.9537 - val_loss: 0.1527 - val_accuracy: 0.9416\n",
            "Epoch 7/20\n",
            "698/698 [==============================] - 138s 198ms/step - loss: 0.1435 - accuracy: 0.9441 - val_loss: 0.1439 - val_accuracy: 0.9425\n",
            "Epoch 8/20\n",
            "698/698 [==============================] - 116s 166ms/step - loss: 0.1119 - accuracy: 0.9563 - val_loss: 0.1574 - val_accuracy: 0.9444\n",
            "Epoch 9/20\n",
            "698/698 [==============================] - 124s 178ms/step - loss: 0.1224 - accuracy: 0.9558 - val_loss: 0.1317 - val_accuracy: 0.9521\n",
            "Epoch 10/20\n",
            "698/698 [==============================] - 174s 249ms/step - loss: 0.1169 - accuracy: 0.9565 - val_loss: 0.1544 - val_accuracy: 0.9368\n",
            "Epoch 11/20\n",
            "698/698 [==============================] - 100s 144ms/step - loss: 0.1058 - accuracy: 0.9608 - val_loss: 0.1240 - val_accuracy: 0.9550\n",
            "Epoch 12/20\n",
            "698/698 [==============================] - 136s 195ms/step - loss: 0.1353 - accuracy: 0.9479 - val_loss: 0.1413 - val_accuracy: 0.9511\n",
            "Epoch 13/20\n",
            "698/698 [==============================] - 147s 210ms/step - loss: 0.0931 - accuracy: 0.9668 - val_loss: 0.1364 - val_accuracy: 0.9473\n",
            "Epoch 14/20\n",
            "698/698 [==============================] - 123s 176ms/step - loss: 0.1217 - accuracy: 0.9532 - val_loss: 0.1169 - val_accuracy: 0.9588\n",
            "Epoch 15/20\n",
            "698/698 [==============================] - 122s 176ms/step - loss: 0.0999 - accuracy: 0.9611 - val_loss: 0.1468 - val_accuracy: 0.9435\n",
            "Epoch 16/20\n",
            "698/698 [==============================] - 139s 200ms/step - loss: 0.1037 - accuracy: 0.9620 - val_loss: 0.1162 - val_accuracy: 0.9550\n",
            "Epoch 17/20\n",
            "698/698 [==============================] - 127s 182ms/step - loss: 0.1088 - accuracy: 0.9580 - val_loss: 0.1290 - val_accuracy: 0.9550\n",
            "Epoch 18/20\n",
            "698/698 [==============================] - 100s 143ms/step - loss: 0.0898 - accuracy: 0.9663 - val_loss: 0.1262 - val_accuracy: 0.9492\n",
            "Epoch 19/20\n",
            "698/698 [==============================] - 128s 183ms/step - loss: 0.1182 - accuracy: 0.9542 - val_loss: 0.1206 - val_accuracy: 0.9588\n",
            "Epoch 20/20\n",
            "698/698 [==============================] - 113s 162ms/step - loss: 0.0888 - accuracy: 0.9680 - val_loss: 0.1188 - val_accuracy: 0.9588\n",
            "104/104 [==============================] - 205s 2s/step - loss: 0.4140 - accuracy: 0.8381\n"
          ]
        },
        {
          "output_type": "display_data",
          "data": {
            "text/plain": [
              "<Figure size 800x800 with 2 Axes>"
            ],
            "image/png": "[encoded data removed]"
          },
          "metadata": {}
        }
      ]
    },
    {
      "cell_type": "code",
      "source": [
        "model__y_test__x_test"
      ],
      "metadata": {
        "id": "vmFMkW199XUj",
        "colab": {
          "base_uri": "https://localhost:8080/"
        },
        "outputId": "aeb7b08a-0ea3-4f2c-ff8f-7fac3ac404fe"
      },
      "execution_count": 33,
      "outputs": [
        {
          "output_type": "execute_result",
          "data": {
            "text/plain": [
              "<keras.engine.functional.Functional at 0x7fc0feee5d80>"
            ]
          },
          "metadata": {},
          "execution_count": 33
        }
      ]
    },
    {
      "cell_type": "code",
      "source": [],
      "metadata": {
        "id": "KnWRosy3ER4P"
      },
      "execution_count": 33,
      "outputs": []
    }
  ]
}