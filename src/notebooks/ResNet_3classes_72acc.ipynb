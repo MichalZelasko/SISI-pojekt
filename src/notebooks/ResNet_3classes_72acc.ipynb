{
  "nbformat": 4,
  "nbformat_minor": 0,
  "metadata": {
    "colab": {
      "provenance": [],
      "gpuType": "T4"
    },
    "kernelspec": {
      "name": "python3",
      "display_name": "Python 3"
    },
    "language_info": {
      "name": "python"
    },
    "accelerator": "GPU"
  },
  "cells": [
    {
      "cell_type": "code",
      "source": [
        "import re\n",
        "import os\n",
        "import numpy as np\n",
        "import pandas as pd\n",
        "import tensorflow as tf\n",
        "from functools import partial\n",
        "import matplotlib.pyplot as plt\n",
        "from sklearn.model_selection import train_test_split\n",
        "from keras.preprocessing.image import ImageDataGenerator\n",
        "from sklearn import metrics\n",
        "\n",
        "try:\n",
        "    tpu = tf.distribute.cluster_resolver.TPUClusterResolver()\n",
        "    print('Device:', tpu.master())\n",
        "    tf.config.experimental_connect_to_cluster(tpu)\n",
        "    tf.tpu.experimental.initialize_tpu_system(tpu)\n",
        "    strategy = tf.distribute.experimental.TPUStrategy(tpu)\n",
        "except:\n",
        "    strategy = tf.distribute.get_strategy()\n",
        "print('Number of replicas:', strategy.num_replicas_in_sync)\n",
        "    \n",
        "print(tf.__version__)\n"
      ],
      "metadata": {
        "colab": {
          "base_uri": "https://localhost:8080/"
        },
        "id": "r2ynPJL5atfr",
        "outputId": "b8a921b1-5dc2-4dd1-9a4c-fd210bc9b25e"
      },
      "execution_count": 1,
      "outputs": [
        {
          "output_type": "stream",
          "name": "stdout",
          "text": [
            "Number of replicas: 1\n",
            "2.12.0\n"
          ]
        }
      ]
    },
    {
      "cell_type": "code",
      "source": [
        "AUTOTUNE = tf.data.experimental.AUTOTUNE\n",
        "BATCH_SIZE = 6 * strategy.num_replicas_in_sync\n",
        "IMAGE_SIZE = [299, 299]\n",
        "EPOCHS = 25"
      ],
      "metadata": {
        "id": "2rVpPcFGaujz"
      },
      "execution_count": 2,
      "outputs": []
    },
    {
      "cell_type": "code",
      "source": [
        "from pydrive.auth import GoogleAuth\n",
        "from google.colab import drive\n",
        "from pydrive.drive import GoogleDrive\n",
        "from google.colab import auth\n",
        "from oauth2client.client import GoogleCredentials"
      ],
      "metadata": {
        "id": "YtIkz4R8aum6"
      },
      "execution_count": 3,
      "outputs": []
    },
    {
      "cell_type": "code",
      "source": [
        "from google.colab import drive\n",
        "drive.mount('/gdrive')\n",
        "%cd /gdrive\n",
        "%cd MyDrive"
      ],
      "metadata": {
        "colab": {
          "base_uri": "https://localhost:8080/"
        },
        "id": "1WCL6pcga0F6",
        "outputId": "8bb04529-ae44-4378-ac4f-39cf4f970c18"
      },
      "execution_count": 4,
      "outputs": [
        {
          "output_type": "stream",
          "name": "stdout",
          "text": [
            "Mounted at /gdrive\n",
            "/gdrive\n",
            "/gdrive/MyDrive\n"
          ]
        }
      ]
    },
    {
      "cell_type": "code",
      "source": [
        "GCS_PATH = 'chest_xray'"
      ],
      "metadata": {
        "id": "apE7vPf7a0JB"
      },
      "execution_count": 5,
      "outputs": []
    },
    {
      "cell_type": "code",
      "source": [
        "filenames = tf.io.gfile.glob(str(GCS_PATH + '/train/*/*'))\n",
        "filenames.extend(tf.io.gfile.glob(str(GCS_PATH + '/val/*/*')))\n",
        "\n",
        "train_filenames, val_filenames = train_test_split(filenames, test_size=0.2)"
      ],
      "metadata": {
        "id": "3N0nMHoqa0Lo"
      },
      "execution_count": 6,
      "outputs": []
    },
    {
      "cell_type": "code",
      "source": [
        "COUNT_NORMAL = len([filename for filename in train_filenames if \"NORMAL\" in filename])\n",
        "print(\"Normal images count in training set: \" + str(COUNT_NORMAL))\n",
        "\n",
        "COUNT_bacteria = len([filename for filename in train_filenames if \"bacteria\" in filename])\n",
        "print(\"Bacteria images count in training set: \" + str(COUNT_bacteria))\n",
        "\n",
        "COUNT_virus = len([filename for filename in train_filenames if \"virus\" in filename])\n",
        "print(\"Virus images count in training set: \" + str(COUNT_virus))"
      ],
      "metadata": {
        "colab": {
          "base_uri": "https://localhost:8080/"
        },
        "id": "xjKSuqhxa0Ny",
        "outputId": "29dba627-fee3-4f41-8a09-e5b88f9d4adf"
      },
      "execution_count": 7,
      "outputs": [
        {
          "output_type": "stream",
          "name": "stdout",
          "text": [
            "Normal images count in training set: 1100\n",
            "Bacteria images count in training set: 2006\n",
            "Virus images count in training set: 1094\n"
          ]
        }
      ]
    },
    {
      "cell_type": "code",
      "source": [
        "train_list_ds = tf.data.Dataset.from_tensor_slices(train_filenames)\n",
        "val_list_ds = tf.data.Dataset.from_tensor_slices(val_filenames)\n",
        "\n",
        "for f in train_list_ds.take(5):\n",
        "    print(f.numpy())"
      ],
      "metadata": {
        "colab": {
          "base_uri": "https://localhost:8080/"
        },
        "id": "Na0QGNpfa0QV",
        "outputId": "352b59e6-2f6a-4df2-b19f-08e92984a5ee"
      },
      "execution_count": 8,
      "outputs": [
        {
          "output_type": "stream",
          "name": "stdout",
          "text": [
            "b'chest_xray/train/NORMAL/IM-0119-0001.jpeg'\n",
            "b'chest_xray/train/PNEUMONIA/person23_bacteria_105.jpeg'\n",
            "b'chest_xray/train/PNEUMONIA/person398_bacteria_1801.jpeg'\n",
            "b'chest_xray/train/PNEUMONIA/person1597_bacteria_4187.jpeg'\n",
            "b'chest_xray/train/PNEUMONIA/person425_bacteria_1860.jpeg'\n"
          ]
        }
      ]
    },
    {
      "cell_type": "code",
      "source": [
        "TRAIN_IMG_COUNT = tf.data.experimental.cardinality(train_list_ds).numpy()\n",
        "print(\"Training images count: \" + str(TRAIN_IMG_COUNT))\n",
        "\n",
        "VAL_IMG_COUNT = tf.data.experimental.cardinality(val_list_ds).numpy()\n",
        "print(\"Validating images count: \" + str(VAL_IMG_COUNT))"
      ],
      "metadata": {
        "colab": {
          "base_uri": "https://localhost:8080/"
        },
        "id": "m3diRWeya0S3",
        "outputId": "99a58fea-3ade-45c0-b1f1-02d9e889f7e4"
      },
      "execution_count": 9,
      "outputs": [
        {
          "output_type": "stream",
          "name": "stdout",
          "text": [
            "Training images count: 4200\n",
            "Validating images count: 1050\n"
          ]
        }
      ]
    },
    {
      "cell_type": "code",
      "source": [
        "CLASS_NAMES = np.array([str(tf.strings.split(item, os.path.sep)[-1].numpy())[2:-1]\n",
        "                        for item in tf.io.gfile.glob(str(GCS_PATH + \"/chest_xray/train/*\"))])\n",
        "CLASS_NAMES"
      ],
      "metadata": {
        "colab": {
          "base_uri": "https://localhost:8080/"
        },
        "id": "r4YSC-dVa0VS",
        "outputId": "f4f091b8-73b2-4d3e-9164-7549e73a54a0"
      },
      "execution_count": 10,
      "outputs": [
        {
          "output_type": "execute_result",
          "data": {
            "text/plain": [
              "array([], dtype=float64)"
            ]
          },
          "metadata": {},
          "execution_count": 10
        }
      ]
    },
    {
      "cell_type": "markdown",
      "source": [
        "**Augmentation**"
      ],
      "metadata": {
        "id": "JaR6TbXSzAS-"
      }
    },
    {
      "cell_type": "code",
      "source": [
        "augment = tf.keras.Sequential([\n",
        "  tf.keras.layers.Resizing(*IMAGE_SIZE),\n",
        "  tf.keras.layers.RandomZoom(height_factor=(-0.05, -0.15),width_factor=(-0.05, -0.15)),\n",
        "\ttf.keras.layers.RandomRotation(0.1),\n",
        "])"
      ],
      "metadata": {
        "id": "QEfcS_fly-8o"
      },
      "execution_count": 11,
      "outputs": []
    },
    {
      "cell_type": "code",
      "source": [
        "# def get_label(file_path):\n",
        "#     # convert the path to a list of path components\n",
        "#     parts = tf.strings.split(file_path, os.path.sep)\n",
        "#     # The second to last is the class-directory\n",
        "#     return parts[-2]\n",
        "\n",
        "def get_label(file_path):\n",
        "    # Extract the file name from the file path\n",
        "    file_name = tf.strings.split(file_path, os.path.sep)[-1]\n",
        "\n",
        "    # Check if the file name contains \"virus\" or \"bacteria\"\n",
        "    is_virus = tf.strings.regex_full_match(file_name, r'.*virus.*')\n",
        "    is_bacteria = tf.strings.regex_full_match(file_name, r'.*bacteria.*')\n",
        "\n",
        "    # Assign labels based on file name conditions\n",
        "    label = tf.cond(is_virus, lambda: \"virus\",\n",
        "                    lambda: tf.cond(is_bacteria, lambda: \"bacteria\", lambda: \"NORMAL\"))\n",
        "\n",
        "    return label"
      ],
      "metadata": {
        "id": "QDP_JW1qa0Xp"
      },
      "execution_count": 12,
      "outputs": []
    },
    {
      "cell_type": "code",
      "source": [
        "def decode_img(img, augmentation=False):\n",
        "  # convert the compressed string to a 3D uint8 tensor\n",
        "  img = tf.image.decode_jpeg(img, channels=3)\n",
        "  # Use `convert_image_dtype` to convert to floats in the [0,1] range.\n",
        "  img = tf.image.convert_image_dtype(img, tf.float32)\n",
        "  # resize the image to the desired size.\n",
        "  if augmentation:\n",
        "    return augment(img)\n",
        "  \n",
        "  return tf.image.resize(img,IMAGE_SIZE)"
      ],
      "metadata": {
        "id": "Hee62TJJa0aD"
      },
      "execution_count": 13,
      "outputs": []
    },
    {
      "cell_type": "code",
      "source": [
        "def process_path(file_path, augmentation=False):\n",
        "    label = get_label(file_path)\n",
        "    # load the raw data from the file as a string\n",
        "    img = tf.io.read_file(file_path)\n",
        "    img = decode_img(img, augmentation)\n",
        "    labels = [int(label == \"virus\"), int(label==\"bacteria\"), int(label == \"NORMAL\")]\n",
        "    labels.extend([0] * 997)\n",
        "    return img, labels"
      ],
      "metadata": {
        "id": "Kx6uWRPObKzb"
      },
      "execution_count": 14,
      "outputs": []
    },
    {
      "cell_type": "code",
      "source": [
        "train_ds = train_list_ds.map(partial(process_path, augmentation=False), num_parallel_calls=AUTOTUNE)\n",
        "# train_ds_aug = train_list_ds.map(partial(process_path, augmentation=True), num_parallel_calls=AUTOTUNE)\n",
        "# train_ds = tf.data.Dataset.concatenate(train_ds, train_ds_aug)\n",
        "\n",
        "val_ds = val_list_ds.map(partial(process_path, augmentation=False), num_parallel_calls=AUTOTUNE)\n",
        "# val_ds_aug = val_list_ds.map(partial(process_path, augmentation=True), num_parallel_calls=AUTOTUNE)\n",
        "# val_ds = tf.data.Dataset.concatenate(val_ds, val_ds_aug)\n"
      ],
      "metadata": {
        "id": "M4bZVyUwbK2y"
      },
      "execution_count": 15,
      "outputs": []
    },
    {
      "cell_type": "code",
      "source": [
        "# train_ds_length = tf.data.experimental.cardinality(train_ds).numpy()\n",
        "# print(\"Number of images in train_ds:\", train_ds_length)"
      ],
      "metadata": {
        "id": "KtSsHmaVg-7Y"
      },
      "execution_count": 16,
      "outputs": []
    },
    {
      "cell_type": "code",
      "source": [
        "# train_list_ds = tf.data.Dataset.list_files(str(GCS_PATH + '/train/*/*'))\n",
        "# tf.data.experimental.cardinality(train_list_ds).numpy()"
      ],
      "metadata": {
        "id": "Qvr2LSU8gBiu"
      },
      "execution_count": 17,
      "outputs": []
    },
    {
      "cell_type": "code",
      "source": [
        "for image, label in train_ds.take(1):\n",
        "    print(\"Image shape: \", image.numpy().shape)\n",
        "    print(\"Label: \", label.numpy())"
      ],
      "metadata": {
        "colab": {
          "base_uri": "https://localhost:8080/"
        },
        "id": "_JtuY8mEbK6J",
        "outputId": "3d476f83-fe5e-4a97-bfdf-236b74b063a8"
      },
      "execution_count": 18,
      "outputs": [
        {
          "output_type": "stream",
          "name": "stdout",
          "text": [
            "Image shape:  (299, 299, 3)\n",
            "Label:  [0 0 1 0 0 0 0 0 0 0 0 0 0 0 0 0 0 0 0 0 0 0 0 0 0 0 0 0 0 0 0 0 0 0 0 0 0\n",
            " 0 0 0 0 0 0 0 0 0 0 0 0 0 0 0 0 0 0 0 0 0 0 0 0 0 0 0 0 0 0 0 0 0 0 0 0 0\n",
            " 0 0 0 0 0 0 0 0 0 0 0 0 0 0 0 0 0 0 0 0 0 0 0 0 0 0 0 0 0 0 0 0 0 0 0 0 0\n",
            " 0 0 0 0 0 0 0 0 0 0 0 0 0 0 0 0 0 0 0 0 0 0 0 0 0 0 0 0 0 0 0 0 0 0 0 0 0\n",
            " 0 0 0 0 0 0 0 0 0 0 0 0 0 0 0 0 0 0 0 0 0 0 0 0 0 0 0 0 0 0 0 0 0 0 0 0 0\n",
            " 0 0 0 0 0 0 0 0 0 0 0 0 0 0 0 0 0 0 0 0 0 0 0 0 0 0 0 0 0 0 0 0 0 0 0 0 0\n",
            " 0 0 0 0 0 0 0 0 0 0 0 0 0 0 0 0 0 0 0 0 0 0 0 0 0 0 0 0 0 0 0 0 0 0 0 0 0\n",
            " 0 0 0 0 0 0 0 0 0 0 0 0 0 0 0 0 0 0 0 0 0 0 0 0 0 0 0 0 0 0 0 0 0 0 0 0 0\n",
            " 0 0 0 0 0 0 0 0 0 0 0 0 0 0 0 0 0 0 0 0 0 0 0 0 0 0 0 0 0 0 0 0 0 0 0 0 0\n",
            " 0 0 0 0 0 0 0 0 0 0 0 0 0 0 0 0 0 0 0 0 0 0 0 0 0 0 0 0 0 0 0 0 0 0 0 0 0\n",
            " 0 0 0 0 0 0 0 0 0 0 0 0 0 0 0 0 0 0 0 0 0 0 0 0 0 0 0 0 0 0 0 0 0 0 0 0 0\n",
            " 0 0 0 0 0 0 0 0 0 0 0 0 0 0 0 0 0 0 0 0 0 0 0 0 0 0 0 0 0 0 0 0 0 0 0 0 0\n",
            " 0 0 0 0 0 0 0 0 0 0 0 0 0 0 0 0 0 0 0 0 0 0 0 0 0 0 0 0 0 0 0 0 0 0 0 0 0\n",
            " 0 0 0 0 0 0 0 0 0 0 0 0 0 0 0 0 0 0 0 0 0 0 0 0 0 0 0 0 0 0 0 0 0 0 0 0 0\n",
            " 0 0 0 0 0 0 0 0 0 0 0 0 0 0 0 0 0 0 0 0 0 0 0 0 0 0 0 0 0 0 0 0 0 0 0 0 0\n",
            " 0 0 0 0 0 0 0 0 0 0 0 0 0 0 0 0 0 0 0 0 0 0 0 0 0 0 0 0 0 0 0 0 0 0 0 0 0\n",
            " 0 0 0 0 0 0 0 0 0 0 0 0 0 0 0 0 0 0 0 0 0 0 0 0 0 0 0 0 0 0 0 0 0 0 0 0 0\n",
            " 0 0 0 0 0 0 0 0 0 0 0 0 0 0 0 0 0 0 0 0 0 0 0 0 0 0 0 0 0 0 0 0 0 0 0 0 0\n",
            " 0 0 0 0 0 0 0 0 0 0 0 0 0 0 0 0 0 0 0 0 0 0 0 0 0 0 0 0 0 0 0 0 0 0 0 0 0\n",
            " 0 0 0 0 0 0 0 0 0 0 0 0 0 0 0 0 0 0 0 0 0 0 0 0 0 0 0 0 0 0 0 0 0 0 0 0 0\n",
            " 0 0 0 0 0 0 0 0 0 0 0 0 0 0 0 0 0 0 0 0 0 0 0 0 0 0 0 0 0 0 0 0 0 0 0 0 0\n",
            " 0 0 0 0 0 0 0 0 0 0 0 0 0 0 0 0 0 0 0 0 0 0 0 0 0 0 0 0 0 0 0 0 0 0 0 0 0\n",
            " 0 0 0 0 0 0 0 0 0 0 0 0 0 0 0 0 0 0 0 0 0 0 0 0 0 0 0 0 0 0 0 0 0 0 0 0 0\n",
            " 0 0 0 0 0 0 0 0 0 0 0 0 0 0 0 0 0 0 0 0 0 0 0 0 0 0 0 0 0 0 0 0 0 0 0 0 0\n",
            " 0 0 0 0 0 0 0 0 0 0 0 0 0 0 0 0 0 0 0 0 0 0 0 0 0 0 0 0 0 0 0 0 0 0 0 0 0\n",
            " 0 0 0 0 0 0 0 0 0 0 0 0 0 0 0 0 0 0 0 0 0 0 0 0 0 0 0 0 0 0 0 0 0 0 0 0 0\n",
            " 0 0 0 0 0 0 0 0 0 0 0 0 0 0 0 0 0 0 0 0 0 0 0 0 0 0 0 0 0 0 0 0 0 0 0 0 0\n",
            " 0]\n"
          ]
        }
      ]
    },
    {
      "cell_type": "code",
      "source": [
        "test_list_ds = tf.data.Dataset.list_files(str(GCS_PATH + '/test/*/*'))\n",
        "TEST_IMAGE_COUNT = tf.data.experimental.cardinality(test_list_ds).numpy()\n",
        "test_ds = test_list_ds.map(process_path, num_parallel_calls=AUTOTUNE)\n",
        "test_ds = test_ds.batch(BATCH_SIZE)\n",
        "\n",
        "TEST_IMAGE_COUNT"
      ],
      "metadata": {
        "colab": {
          "base_uri": "https://localhost:8080/"
        },
        "id": "iMj16z0ofAmT",
        "outputId": "737890d8-5bae-4870-eaac-9a5eb3423644"
      },
      "execution_count": 19,
      "outputs": [
        {
          "output_type": "execute_result",
          "data": {
            "text/plain": [
              "624"
            ]
          },
          "metadata": {},
          "execution_count": 19
        }
      ]
    },
    {
      "cell_type": "code",
      "source": [
        "def prepare_for_training(ds, cache=False, shuffle_buffer_size=500):\n",
        "    # This is a small dataset, only load it once, and keep it in memory.\n",
        "    # use `.cache(filename)` to cache preprocessing work for datasets that don't\n",
        "    # fit in memory.\n",
        "    if cache:\n",
        "        if isinstance(cache, str):\n",
        "            ds = ds.cache(cache)\n",
        "        else:\n",
        "            ds = ds.cache()\n",
        "\n",
        "    ds = ds.shuffle(buffer_size=shuffle_buffer_size)\n",
        "\n",
        "    # Repeat forever\n",
        "    ds = ds.repeat()\n",
        "\n",
        "    ds = ds.batch(BATCH_SIZE)\n",
        "\n",
        "    # `prefetch` lets the dataset fetch batches in the background while the model\n",
        "    # is training.\n",
        "    ds = ds.prefetch(buffer_size=AUTOTUNE)\n",
        "\n",
        "    return ds"
      ],
      "metadata": {
        "id": "4szvXCoWfAvC"
      },
      "execution_count": 20,
      "outputs": []
    },
    {
      "cell_type": "code",
      "source": [
        "train_ds = prepare_for_training(train_ds)\n",
        "val_ds = prepare_for_training(val_ds)\n",
        "\n",
        "image_batch, label_batch = next(iter(train_ds))"
      ],
      "metadata": {
        "id": "nrF9qYRlfAyb"
      },
      "execution_count": 21,
      "outputs": []
    },
    {
      "cell_type": "code",
      "source": [
        "# print(label_batch)\n",
        "print(label_batch.shape)\n",
        "print(image_batch.shape)"
      ],
      "metadata": {
        "colab": {
          "base_uri": "https://localhost:8080/"
        },
        "id": "wvgijGrPaupj",
        "outputId": "b548a102-33e3-42f8-de75-d55b69bb4222"
      },
      "execution_count": 22,
      "outputs": [
        {
          "output_type": "stream",
          "name": "stdout",
          "text": [
            "(6, 1000)\n",
            "(6, 299, 299, 3)\n"
          ]
        }
      ]
    },
    {
      "cell_type": "code",
      "source": [
        "def show_batch(image_batch, label_batch):\n",
        "    fig, imgs = plt.subplots(BATCH_SIZE//4,4)\n",
        "    fig.tight_layout()\n",
        "    fig.set_figwidth(8) \n",
        "    for n in range(BATCH_SIZE):\n",
        "      imgs[n//4][n%4].imshow(image_batch[n])\n",
        "      if label_batch[n][0]:\n",
        "        imgs[n//4][n%4].set_title(\"PNEUMONIA\")\n",
        "      else:\n",
        "        imgs[n//4][n%4].set_title(\"NORMAL\")"
      ],
      "metadata": {
        "id": "yxovfZ_1fKUy"
      },
      "execution_count": 23,
      "outputs": []
    },
    {
      "cell_type": "code",
      "source": [
        "# show_batch(image_batch.numpy(), label_batch.numpy())"
      ],
      "metadata": {
        "id": "gcbZboFFfKca"
      },
      "execution_count": 24,
      "outputs": []
    },
    {
      "cell_type": "code",
      "source": [
        "bacterial_bias = np.log([COUNT_bacteria/COUNT_NORMAL])\n",
        "virus_bias = np.log([COUNT_virus/COUNT_NORMAL])\n",
        "print(bacterial_bias, virus_bias)"
      ],
      "metadata": {
        "colab": {
          "base_uri": "https://localhost:8080/"
        },
        "id": "t2UJDxCvfKi7",
        "outputId": "90b12e4e-61fb-481d-eb84-4ff2ec00905c"
      },
      "execution_count": 25,
      "outputs": [
        {
          "output_type": "stream",
          "name": "stdout",
          "text": [
            "[0.60083251] [-0.00546948]\n"
          ]
        }
      ]
    },
    {
      "cell_type": "code",
      "source": [
        "weight_for_0 = (1 / COUNT_NORMAL)*(TRAIN_IMG_COUNT)/3.0 \n",
        "weight_for_1 = (1 / COUNT_bacteria)*(TRAIN_IMG_COUNT)/3.0\n",
        "weight_for_2 = (1 / COUNT_virus)*(TRAIN_IMG_COUNT)/3.0\n",
        "\n",
        "class_weight = {0: weight_for_0, 1: weight_for_1, 2: weight_for_2}\n",
        "\n",
        "print('Weight for class 0: {:.2f}'.format(weight_for_0))\n",
        "print('Weight for class 1: {:.2f}'.format(weight_for_1))\n",
        "print('Weight for class 2: {:.2f}'.format(weight_for_2))"
      ],
      "metadata": {
        "colab": {
          "base_uri": "https://localhost:8080/"
        },
        "id": "lEwIAAQWfTwL",
        "outputId": "538054ca-176e-448f-b75d-579a298a2178"
      },
      "execution_count": 26,
      "outputs": [
        {
          "output_type": "stream",
          "name": "stdout",
          "text": [
            "Weight for class 0: 1.27\n",
            "Weight for class 1: 0.70\n",
            "Weight for class 2: 1.28\n"
          ]
        }
      ]
    },
    {
      "cell_type": "code",
      "execution_count": 27,
      "metadata": {
        "id": "AVG9EFYbV9IY"
      },
      "outputs": [],
      "source": [
        "import tensorflow as tf\n",
        "import numpy as np\n",
        "from PIL import Image\n",
        "import matplotlib.pyplot as plt\n",
        "from pathlib import Path\n",
        "import os\n",
        "\n",
        "def reformat(labels, number = 10) :\n",
        "    array = np.zeros((labels.shape[0], number))\n",
        "    i = 0\n",
        "    for label in labels :\n",
        "        array[i][label] = 1\n",
        "        i += 1\n",
        "    return array\n",
        "\n",
        "def loadData() :\n",
        "    (x_train, y_train_basic), (x_test, y_test_basic) = tf.keras.datasets.cifar10.load_data()\n",
        "    y_train = reformat(y_train_basic)\n",
        "    y_test = reformat(y_test_basic)\n",
        "    return x_train, y_train, x_test, y_test, y_train_basic, y_test_basic\n",
        "\n",
        "def optimizeModel(model, train_ds, val_ds, epochs = 150) :\n",
        "    model.compile(optimizer=tf.keras.optimizers.SGD(learning_rate=0.001, momentum=0.9), loss=tf.keras.losses.CategoricalCrossentropy(), metrics = ['accuracy'], jit_compile = True)\n",
        "    history = model.fit(train_ds, batch_size = 64, epochs = epochs, steps_per_epoch=TRAIN_IMG_COUNT // BATCH_SIZE, validation_data=val_ds, validation_steps=VAL_IMG_COUNT // BATCH_SIZE)\n",
        "    return model, history\n",
        "\n",
        "def plotHistory(history) :\n",
        "    acc = history.history['accuracy']\n",
        "    val_acc = history.history['val_accuracy']\n",
        "\n",
        "    loss = history.history['loss']\n",
        "    val_loss = history.history['val_loss']\n",
        "\n",
        "    plt.figure(figsize=(8, 8))\n",
        "    plt.subplot(2, 1, 1)\n",
        "    plt.plot(acc, label='Training Accuracy')\n",
        "    plt.plot(val_acc, label='Validation Accuracy')\n",
        "    plt.legend(loc='lower left')\n",
        "    plt.xlabel('epoch')\n",
        "    plt.ylabel('Accuracy')\n",
        "    plt.ylim([0,1.1])\n",
        "    plt.title('Training and Validation Accuracy')\n",
        "\n",
        "    plt.subplot(2, 1, 2)\n",
        "    plt.plot(loss, label='Training Loss')\n",
        "    plt.plot(np.array(val_loss) / 10, label='Validation Loss')\n",
        "    plt.legend(loc='lower left')\n",
        "    plt.xlabel('epoch')\n",
        "    plt.ylabel('Loss')\n",
        "    plt.title('Training and Validation Loss')\n",
        "    plt.show()\n",
        "\n",
        "\n",
        "def test(model, train_ds, test_ds, val_ds, doPlot = True, doEvaluate = True, epochs = 150) :\n",
        "    model, history = optimizeModel(model, train_ds, val_ds, epochs = epochs)\n",
        "    if doEvaluate : model.evaluate(test_ds)\n",
        "    if doPlot : plotHistory(history)\n",
        "    return model\n",
        "\n",
        "def prepareXception(train_ds, test_ds, val_ds, model, doFreeze = True, epochs = 150) :\n",
        "    for layer in model.layers :\n",
        "      if doFreeze or layer.name[:5] == \"batch\" :\n",
        "          layer.trainable = False\n",
        "      else :\n",
        "          layer.trainable = True\n",
        "    if doFreeze :\n",
        "        model.layers[-2] = tf.keras.layers.GlobalAveragePooling2D()\n",
        "        model.layers[-1] = tf.keras.layers.Dense(units = 2, activation = 'softmax')\n",
        "    model.layers[-2].trainable = True\n",
        "    model.layers[-1].trainable = True\n",
        "    \n",
        "    return test(model, train_ds, test_ds, val_ds, doPlot = True, doEvaluate = True, epochs = epochs)\n",
        "\n",
        "def step3(train_ds, test_ds, val_ds, doFreeze = True, epochs = 40, doPredict = True) :\n",
        "    model = tf.keras.applications.Xception(include_top=True, weights=\"imagenet\", input_tensor=None, input_shape=None, pooling=None, classes=1000, classifier_activation=\"softmax\")\n",
        "    model = prepareXception(train_ds, test_ds, val_ds, model, doFreeze, epochs)\n",
        "    return model"
      ]
    },
    {
      "cell_type": "code",
      "source": [
        "model, y_test, x_test = None, None, None\n",
        "\n",
        "if __name__ == \"__main__\" :\n",
        "    model__y_test__x_test = step3(train_ds, test_ds, val_ds, doFreeze = True, epochs = 50)"
      ],
      "metadata": {
        "colab": {
          "base_uri": "https://localhost:8080/",
          "height": 1000
        },
        "id": "9Z6LD3klWNgC",
        "outputId": "e949fc07-4b70-4585-c0bf-e9b8c56edce7"
      },
      "execution_count": 28,
      "outputs": [
        {
          "output_type": "stream",
          "name": "stdout",
          "text": [
            "Downloading data from https://storage.googleapis.com/tensorflow/keras-applications/xception/xception_weights_tf_dim_ordering_tf_kernels.h5\n",
            "91884032/91884032 [==============================] - 8s 0us/step\n",
            "Epoch 1/50\n",
            "700/700 [==============================] - 617s 848ms/step - loss: 0.9185 - accuracy: 0.6969 - val_loss: 0.5478 - val_accuracy: 0.7829\n",
            "Epoch 2/50\n",
            "700/700 [==============================] - 100s 143ms/step - loss: 0.5421 - accuracy: 0.7848 - val_loss: 0.5207 - val_accuracy: 0.7810\n",
            "Epoch 3/50\n",
            "700/700 [==============================] - 114s 163ms/step - loss: 0.5111 - accuracy: 0.7900 - val_loss: 0.4921 - val_accuracy: 0.7971\n",
            "Epoch 4/50\n",
            "700/700 [==============================] - 99s 142ms/step - loss: 0.4894 - accuracy: 0.7921 - val_loss: 0.4904 - val_accuracy: 0.7876\n",
            "Epoch 5/50\n",
            "700/700 [==============================] - 116s 167ms/step - loss: 0.4822 - accuracy: 0.7976 - val_loss: 0.4827 - val_accuracy: 0.7914\n",
            "Epoch 6/50\n",
            "700/700 [==============================] - 112s 160ms/step - loss: 0.4695 - accuracy: 0.8019 - val_loss: 0.4795 - val_accuracy: 0.7895\n",
            "Epoch 7/50\n",
            "700/700 [==============================] - 112s 160ms/step - loss: 0.4625 - accuracy: 0.8045 - val_loss: 0.4742 - val_accuracy: 0.8029\n",
            "Epoch 8/50\n",
            "700/700 [==============================] - 103s 148ms/step - loss: 0.4521 - accuracy: 0.8081 - val_loss: 0.4981 - val_accuracy: 0.7733\n",
            "Epoch 9/50\n",
            "700/700 [==============================] - 99s 141ms/step - loss: 0.4446 - accuracy: 0.8138 - val_loss: 0.4738 - val_accuracy: 0.7971\n",
            "Epoch 10/50\n",
            "700/700 [==============================] - 101s 145ms/step - loss: 0.4402 - accuracy: 0.8119 - val_loss: 0.4715 - val_accuracy: 0.8010\n",
            "Epoch 11/50\n",
            "700/700 [==============================] - 99s 141ms/step - loss: 0.4356 - accuracy: 0.8136 - val_loss: 0.4643 - val_accuracy: 0.8048\n",
            "Epoch 12/50\n",
            "700/700 [==============================] - 101s 144ms/step - loss: 0.4303 - accuracy: 0.8183 - val_loss: 0.4702 - val_accuracy: 0.7971\n",
            "Epoch 13/50\n",
            "700/700 [==============================] - 98s 140ms/step - loss: 0.4253 - accuracy: 0.8217 - val_loss: 0.4614 - val_accuracy: 0.8076\n",
            "Epoch 14/50\n",
            "700/700 [==============================] - 98s 140ms/step - loss: 0.4239 - accuracy: 0.8190 - val_loss: 0.4719 - val_accuracy: 0.7943\n",
            "Epoch 15/50\n",
            "700/700 [==============================] - 133s 191ms/step - loss: 0.4147 - accuracy: 0.8255 - val_loss: 0.4586 - val_accuracy: 0.7990\n",
            "Epoch 16/50\n",
            "700/700 [==============================] - 95s 136ms/step - loss: 0.4133 - accuracy: 0.8221 - val_loss: 0.4698 - val_accuracy: 0.7981\n",
            "Epoch 17/50\n",
            "700/700 [==============================] - 97s 139ms/step - loss: 0.4074 - accuracy: 0.8248 - val_loss: 0.4795 - val_accuracy: 0.7981\n",
            "Epoch 18/50\n",
            "700/700 [==============================] - 135s 192ms/step - loss: 0.4088 - accuracy: 0.8252 - val_loss: 0.4688 - val_accuracy: 0.7962\n",
            "Epoch 19/50\n",
            "700/700 [==============================] - 76s 109ms/step - loss: 0.4054 - accuracy: 0.8295 - val_loss: 0.4560 - val_accuracy: 0.8048\n",
            "Epoch 20/50\n",
            "700/700 [==============================] - 110s 158ms/step - loss: 0.4042 - accuracy: 0.8281 - val_loss: 0.4667 - val_accuracy: 0.8029\n",
            "Epoch 21/50\n",
            "700/700 [==============================] - 107s 153ms/step - loss: 0.4008 - accuracy: 0.8319 - val_loss: 0.4712 - val_accuracy: 0.7971\n",
            "Epoch 22/50\n",
            "700/700 [==============================] - 140s 200ms/step - loss: 0.3938 - accuracy: 0.8329 - val_loss: 0.4747 - val_accuracy: 0.7933\n",
            "Epoch 23/50\n",
            "700/700 [==============================] - 134s 192ms/step - loss: 0.3937 - accuracy: 0.8352 - val_loss: 0.4607 - val_accuracy: 0.8095\n",
            "Epoch 24/50\n",
            "700/700 [==============================] - 134s 191ms/step - loss: 0.3893 - accuracy: 0.8360 - val_loss: 0.4656 - val_accuracy: 0.7962\n",
            "Epoch 25/50\n",
            "700/700 [==============================] - 131s 188ms/step - loss: 0.3867 - accuracy: 0.8402 - val_loss: 0.4566 - val_accuracy: 0.8067\n",
            "Epoch 26/50\n",
            "700/700 [==============================] - 97s 138ms/step - loss: 0.3861 - accuracy: 0.8421 - val_loss: 0.4806 - val_accuracy: 0.7886\n",
            "Epoch 27/50\n",
            "700/700 [==============================] - 96s 138ms/step - loss: 0.3849 - accuracy: 0.8388 - val_loss: 0.4575 - val_accuracy: 0.8019\n",
            "Epoch 28/50\n",
            "700/700 [==============================] - 99s 141ms/step - loss: 0.3826 - accuracy: 0.8410 - val_loss: 0.4565 - val_accuracy: 0.7990\n",
            "Epoch 29/50\n",
            "700/700 [==============================] - 98s 141ms/step - loss: 0.3806 - accuracy: 0.8417 - val_loss: 0.4665 - val_accuracy: 0.8057\n",
            "Epoch 30/50\n",
            "700/700 [==============================] - 101s 144ms/step - loss: 0.3802 - accuracy: 0.8452 - val_loss: 0.4563 - val_accuracy: 0.7990\n",
            "Epoch 31/50\n",
            "700/700 [==============================] - 102s 146ms/step - loss: 0.3742 - accuracy: 0.8474 - val_loss: 0.4610 - val_accuracy: 0.8000\n",
            "Epoch 32/50\n",
            "700/700 [==============================] - 100s 143ms/step - loss: 0.3748 - accuracy: 0.8412 - val_loss: 0.4613 - val_accuracy: 0.7952\n",
            "Epoch 33/50\n",
            "700/700 [==============================] - 95s 136ms/step - loss: 0.3699 - accuracy: 0.8452 - val_loss: 0.4567 - val_accuracy: 0.8029\n",
            "Epoch 34/50\n",
            "700/700 [==============================] - 96s 137ms/step - loss: 0.3732 - accuracy: 0.8445 - val_loss: 0.4617 - val_accuracy: 0.7971\n",
            "Epoch 35/50\n",
            "700/700 [==============================] - 92s 132ms/step - loss: 0.3709 - accuracy: 0.8450 - val_loss: 0.4586 - val_accuracy: 0.7971\n",
            "Epoch 36/50\n",
            "700/700 [==============================] - 96s 137ms/step - loss: 0.3677 - accuracy: 0.8502 - val_loss: 0.4582 - val_accuracy: 0.7990\n",
            "Epoch 37/50\n",
            "700/700 [==============================] - 96s 137ms/step - loss: 0.3652 - accuracy: 0.8490 - val_loss: 0.4918 - val_accuracy: 0.7829\n",
            "Epoch 38/50\n",
            "700/700 [==============================] - 96s 137ms/step - loss: 0.3644 - accuracy: 0.8457 - val_loss: 0.4670 - val_accuracy: 0.7895\n",
            "Epoch 39/50\n",
            "700/700 [==============================] - 134s 191ms/step - loss: 0.3650 - accuracy: 0.8481 - val_loss: 0.4856 - val_accuracy: 0.7943\n",
            "Epoch 40/50\n",
            "700/700 [==============================] - 95s 136ms/step - loss: 0.3593 - accuracy: 0.8517 - val_loss: 0.4583 - val_accuracy: 0.8076\n",
            "Epoch 41/50\n",
            "700/700 [==============================] - 93s 133ms/step - loss: 0.3533 - accuracy: 0.8588 - val_loss: 0.4658 - val_accuracy: 0.7914\n",
            "Epoch 42/50\n",
            "700/700 [==============================] - 94s 135ms/step - loss: 0.3568 - accuracy: 0.8517 - val_loss: 0.4607 - val_accuracy: 0.8067\n",
            "Epoch 43/50\n",
            "700/700 [==============================] - 99s 142ms/step - loss: 0.3544 - accuracy: 0.8557 - val_loss: 0.4629 - val_accuracy: 0.7990\n",
            "Epoch 44/50\n",
            "700/700 [==============================] - 96s 137ms/step - loss: 0.3543 - accuracy: 0.8552 - val_loss: 0.4732 - val_accuracy: 0.8019\n",
            "Epoch 45/50\n",
            "700/700 [==============================] - 98s 140ms/step - loss: 0.3497 - accuracy: 0.8564 - val_loss: 0.4566 - val_accuracy: 0.8010\n",
            "Epoch 46/50\n",
            "700/700 [==============================] - 96s 137ms/step - loss: 0.3494 - accuracy: 0.8571 - val_loss: 0.4604 - val_accuracy: 0.8048\n",
            "Epoch 47/50\n",
            "700/700 [==============================] - 98s 140ms/step - loss: 0.3512 - accuracy: 0.8543 - val_loss: 0.4654 - val_accuracy: 0.8086\n",
            "Epoch 48/50\n",
            "700/700 [==============================] - 96s 137ms/step - loss: 0.3496 - accuracy: 0.8526 - val_loss: 0.4990 - val_accuracy: 0.7781\n",
            "Epoch 49/50\n",
            "700/700 [==============================] - 99s 141ms/step - loss: 0.3440 - accuracy: 0.8562 - val_loss: 0.5000 - val_accuracy: 0.7971\n",
            "Epoch 50/50\n",
            "700/700 [==============================] - 96s 138ms/step - loss: 0.3461 - accuracy: 0.8533 - val_loss: 0.4597 - val_accuracy: 0.8010\n",
            "104/104 [==============================] - 191s 2s/step - loss: 0.8639 - accuracy: 0.7228\n"
          ]
        },
        {
          "output_type": "display_data",
          "data": {
            "text/plain": [
              "<Figure size 800x800 with 2 Axes>"
            ],
            "image/png": "[encoded data removed]"
          },
          "metadata": {}
        }
      ]
    },
    {
      "cell_type": "code",
      "source": [],
      "metadata": {
        "id": "KnWRosy3ER4P"
      },
      "execution_count": 28,
      "outputs": []
    }
  ]
}